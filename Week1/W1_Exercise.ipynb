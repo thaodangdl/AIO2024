{
  "nbformat": 4,
  "nbformat_minor": 0,
  "metadata": {
    "colab": {
      "provenance": []
    },
    "kernelspec": {
      "name": "python3",
      "display_name": "Python 3"
    },
    "language_info": {
      "name": "python"
    }
  },
  "cells": [
    {
      "cell_type": "markdown",
      "source": [
        "Bài tập"
      ],
      "metadata": {
        "id": "ZaKcz5DV9w8C"
      }
    },
    {
      "cell_type": "markdown",
      "source": [
        "Câu hỏi 1 : Viết function thực hiện đánh giá classification model bằng F1-Score. Function nhận vào 3\n",
        "giá trị tp, fp, fn và trả về F1-score"
      ],
      "metadata": {
        "id": "XZzKYaOM90NH"
      }
    },
    {
      "cell_type": "code",
      "execution_count": 1,
      "metadata": {
        "colab": {
          "base_uri": "https://localhost:8080/"
        },
        "id": "v5pBDF1k9vEx",
        "outputId": "a28a0424-bcb1-430f-b644-d031c6139ccb"
      },
      "outputs": [
        {
          "output_type": "stream",
          "name": "stdout",
          "text": [
            "0.31\n"
          ]
        }
      ],
      "source": [
        "import math\n",
        "def calc_f1_score ( tp , fp , fn ) :\n",
        "# Your code here\n",
        "    precision = tp / (tp + fp)\n",
        "    recall = tp / (tp + fn)\n",
        "\n",
        "    return 2 * precision * recall / (precision + recall)\n",
        "# End your code\n",
        "\n",
        "assert round ( calc_f1_score ( tp =2 , fp =3 , fn =5) , 2) == 0.33\n",
        "print ( round ( calc_f1_score ( tp =2 , fp =4 , fn =5) , 2) )"
      ]
    },
    {
      "cell_type": "markdown",
      "source": [
        "Câu hỏi 2 : Viết function is_number nhận input có thể là string hoặc một số kiểm tra n (một\n",
        "số) có hợp lệ hay không (vd: n=’10’, is_number(n) sẽ trả về True ngược lại là False). Đầu ra của\n",
        "chương trình sau đây là gì?"
      ],
      "metadata": {
        "id": "PztE6Zvg-NML"
      }
    },
    {
      "cell_type": "code",
      "source": [
        "import math\n",
        "\n",
        "def is_number(n):\n",
        "    if type(n) == int or type(n) == float:\n",
        "        return True\n",
        "    try:\n",
        "        float(n)\n",
        "        return True\n",
        "    except ValueError:\n",
        "        return False"
      ],
      "metadata": {
        "id": "xEEUFL1Y-GaB"
      },
      "execution_count": 2,
      "outputs": []
    },
    {
      "cell_type": "code",
      "source": [
        "assert is_number (3) == 1.0\n",
        "assert is_number ( '-2a') == 0.0\n",
        "print ( is_number (1) )\n",
        "print ( is_number ('n') )"
      ],
      "metadata": {
        "colab": {
          "base_uri": "https://localhost:8080/"
        },
        "id": "4-0cGou_-lyP",
        "outputId": "778e2e7c-7147-43bd-e474-9c912fd3584d"
      },
      "execution_count": 4,
      "outputs": [
        {
          "output_type": "stream",
          "name": "stdout",
          "text": [
            "True\n",
            "False\n"
          ]
        }
      ]
    },
    {
      "cell_type": "markdown",
      "source": [
        "Câu hỏi 4 : Viết function thực hiện Sigmoid Function f(x) = 1\n",
        "1 + e−x\n",
        ". Nhận input là x và return kết\n",
        "\n",
        "quả tương ứng trong Sigmoid Function. Đầu ra của chương trình sau đây là gì?"
      ],
      "metadata": {
        "id": "5nXz122k_bWw"
      }
    },
    {
      "cell_type": "code",
      "source": [
        "import math\n",
        "\n",
        "def calc_sig(x):\n",
        "\n",
        "    # Your code here\n",
        "    return 1 / (1 + math.exp(-x))\n",
        "\n",
        "    # End your code\n",
        "\n",
        "\n",
        "assert round(calc_sig(3), 2) == 0.95\n",
        "print(round(calc_sig(2), 2))"
      ],
      "metadata": {
        "colab": {
          "base_uri": "https://localhost:8080/"
        },
        "id": "55HnCpo9-pxc",
        "outputId": "62639025-a0c2-4caa-a0f4-cdd1dd5bc019"
      },
      "execution_count": 6,
      "outputs": [
        {
          "output_type": "stream",
          "name": "stdout",
          "text": [
            "0.88\n"
          ]
        }
      ]
    },
    {
      "cell_type": "markdown",
      "source": [
        "Câu hỏi 5 : Viết function thực hiện Elu Function f(x) =\n",
        "c\n",
        "α(e\n",
        "x − 1) if x ≤ 0\n",
        "x if x > 0\n",
        "\n",
        ". Nhận input là x và\n",
        "return kết quả tương ứng trong Elu Function. Đầu ra của chương trình sau đây là gì khi α = 0.01?"
      ],
      "metadata": {
        "id": "iUwlkYyHBsr4"
      }
    },
    {
      "cell_type": "code",
      "source": [
        "import math\n",
        "\n",
        "def calc_elu(x):\n",
        "    alpha = 0.01\n",
        "    if x <= 0:\n",
        "        return alpha * (math.exp(x) - 1)\n",
        "    else:\n",
        "        return x\n",
        "\n",
        "assert round(calc_elu(1)) == 1\n",
        "print(round(calc_elu(-1), 2))"
      ],
      "metadata": {
        "colab": {
          "base_uri": "https://localhost:8080/"
        },
        "id": "3apgQSHV_zze",
        "outputId": "f9497e77-20fc-49a2-dddc-ba622e84abe4"
      },
      "execution_count": 7,
      "outputs": [
        {
          "output_type": "stream",
          "name": "stdout",
          "text": [
            "-0.01\n"
          ]
        }
      ]
    },
    {
      "cell_type": "markdown",
      "source": [
        "Câu hỏi 6 : Viết function nhận 2 giá trị x, và tên của activation function act_name activation\n",
        "function chỉ có 3 loại (sigmoid, relu, elu), thực hiện tính toán activation function tương ứng với\n",
        "name nhận được trên giá trị của x và trả kết quả. Đầu ra của chương trình sau đây là gì?"
      ],
      "metadata": {
        "id": "8o1RPohTCeMa"
      }
    },
    {
      "cell_type": "code",
      "source": [
        "import math\n",
        "\n",
        "def calc_activation_func (x , act_name ) :\n",
        "  # Your code here\n",
        "      if act_name == 'sigmoid':\n",
        "        return 1 / (1 + math.exp(-x))\n",
        "\n",
        "      if act_name == 'relu':\n",
        "        if x <= 0:\n",
        "          return 0\n",
        "        else:\n",
        "          return x\n",
        "\n",
        "      if act_name == 'elu':\n",
        "        alpha = 0.01\n",
        "        if x <= 0:\n",
        "          return alpha * (math.exp(x) - 1)\n",
        "        else:\n",
        "          return x\n",
        " # End your code\n",
        "\n",
        "assert calc_activation_func ( x = 1 , act_name ='relu') == 1\n",
        "\n",
        "print ( round ( calc_activation_func (x = 3 , act_name ='sigmoid') , 2) )"
      ],
      "metadata": {
        "colab": {
          "base_uri": "https://localhost:8080/"
        },
        "id": "2UhyH3VmCYux",
        "outputId": "921a5e0f-dc81-48ba-f57d-1d492e59db25"
      },
      "execution_count": 8,
      "outputs": [
        {
          "output_type": "stream",
          "name": "stdout",
          "text": [
            "0.95\n"
          ]
        }
      ]
    },
    {
      "cell_type": "markdown",
      "source": [
        "Câu hỏi 7 : Viết function tính absolute error = |y−yˆ|. Nhận input là y và yˆ, return về kết quả absolute\n",
        "error tương ứng. Đầu ra của chương trình sau đây là gì?"
      ],
      "metadata": {
        "id": "RpMkPtLhDDbE"
      }
    },
    {
      "cell_type": "code",
      "source": [
        "def calc_ae(y, y_hat):\n",
        "    # Your code here\n",
        "    return abs(y - y_hat)\n",
        "    # End your code\n",
        "\n",
        "y = 1\n",
        "y_hat = 6\n",
        "assert calc_ae(y, y_hat) == 5\n",
        "y = 2\n",
        "y_hat = 9\n",
        "\n",
        "print(calc_ae(y, y_hat))"
      ],
      "metadata": {
        "colab": {
          "base_uri": "https://localhost:8080/"
        },
        "id": "3qvb0uQ_CzNR",
        "outputId": "65bb2ed9-ae46-47ae-93aa-8223d9dc1437"
      },
      "execution_count": 9,
      "outputs": [
        {
          "output_type": "stream",
          "name": "stdout",
          "text": [
            "7\n"
          ]
        }
      ]
    },
    {
      "cell_type": "markdown",
      "source": [
        "Câu hỏi 8 : Viết function tính squared error = (y−yˆ)\n",
        "2\n",
        ". Nhận input là y và yˆ, return về kết quả squared\n",
        "\n",
        "error tương ứng. Đầu ra của chương trình sau đây là gì?"
      ],
      "metadata": {
        "id": "ODOS19w1DZiI"
      }
    },
    {
      "cell_type": "code",
      "source": [
        "def calc_se(y, y_hat):\n",
        "    # Your code here\n",
        "    return (y - y_hat)**2\n",
        "    # End your code\n",
        "\n",
        "y = 4\n",
        "y_hat = 2\n",
        "\n",
        "assert calc_se(y, y_hat) == 4\n",
        "print(calc_se(2, 1))"
      ],
      "metadata": {
        "colab": {
          "base_uri": "https://localhost:8080/"
        },
        "id": "sbQyIIiBDSBW",
        "outputId": "2ac29693-1128-4e5a-b324-630aaaec055d"
      },
      "execution_count": 11,
      "outputs": [
        {
          "output_type": "stream",
          "name": "stdout",
          "text": [
            "1\n"
          ]
        }
      ]
    },
    {
      "cell_type": "markdown",
      "source": [
        "Câu hỏi 9 : Dựa vào công thức xấp xỉ cos và điều kiện được giới thiệu các bạn click ở đây. Viết function xấp xỉ cos khi nhận x là giá trị muốn tính cos(x) và n là số lần lặp muốn xấp xỉ. Return về kết quả\n",
        "cos(x) với bậc xấp xỉ tương ứng. Đầu ra của chương trình sau đây là gì?\n"
      ],
      "metadata": {
        "id": "HpaF0yybDtil"
      }
    },
    {
      "cell_type": "code",
      "source": [
        "def approx_cos(x, n):\n",
        "    cos_x = 0\n",
        "    for i in range(n) :\n",
        "        cos_x += (-1)**i * x**(2*i) / math.factorial(2*i)\n",
        "    return cos_x"
      ],
      "metadata": {
        "id": "8uUf8pjwDhNy"
      },
      "execution_count": 12,
      "outputs": []
    },
    {
      "cell_type": "code",
      "source": [
        "assert round ( approx_cos ( x =1 , n =10) , 2) ==0.54"
      ],
      "metadata": {
        "id": "xl_TlEHvETOP"
      },
      "execution_count": 13,
      "outputs": []
    },
    {
      "cell_type": "code",
      "source": [
        "print ( round ( approx_cos ( x =3.14 , n =10) , 2) )"
      ],
      "metadata": {
        "colab": {
          "base_uri": "https://localhost:8080/"
        },
        "id": "u7P1hUgvEYtL",
        "outputId": "fecaec73-fda2-45cc-e065-3524b10e96a6"
      },
      "execution_count": 14,
      "outputs": [
        {
          "output_type": "stream",
          "name": "stdout",
          "text": [
            "-1.0\n"
          ]
        }
      ]
    },
    {
      "cell_type": "markdown",
      "source": [
        "Câu hỏi 10 : Dựa vào công thức xấp xỉ sin và điều kiện được giới thiệu các bạn click ở đây. Viết\n",
        "function xấp xỉ sin khi nhận x là giá trị muốn tính sin(x) và n là số lần lặp muốn xấp xỉ. Return về kết\n",
        "quả sin(x) với bậc xấp xỉ tương ứng. Đầu ra của chương trình sau đây là gì?"
      ],
      "metadata": {
        "id": "VHZPCmNOEea8"
      }
    },
    {
      "cell_type": "code",
      "source": [
        "def approx_sin(x, n):\n",
        "    sin_x = 0\n",
        "    for i in range(n) :\n",
        "        sin_x += (-1)**i * x**(2*i + 1) / math.factorial(2*i + 1)\n",
        "    return sin_x"
      ],
      "metadata": {
        "id": "iy9O_PwXEamQ"
      },
      "execution_count": 15,
      "outputs": []
    },
    {
      "cell_type": "code",
      "source": [
        "assert round ( approx_sin ( x =1 , n =10) , 4) ==0.8415"
      ],
      "metadata": {
        "id": "tuIynJdhEjM_"
      },
      "execution_count": 16,
      "outputs": []
    },
    {
      "cell_type": "code",
      "source": [
        "print ( round ( approx_sin ( x =3.14 , n =10) , 4) )"
      ],
      "metadata": {
        "colab": {
          "base_uri": "https://localhost:8080/"
        },
        "id": "P6pJfkX2Ekf_",
        "outputId": "47307084-309c-4942-daca-16256a3966ca"
      },
      "execution_count": 17,
      "outputs": [
        {
          "output_type": "stream",
          "name": "stdout",
          "text": [
            "0.0016\n"
          ]
        }
      ]
    },
    {
      "cell_type": "markdown",
      "source": [
        "Câu hỏi 11 : Dựa vào công thức xấp xỉ sinh và điều kiện được giới thiệu các bạn click ở đây. Viết\n",
        "function xấp xỉ sinh khi nhận x là giá trị muốn tính sinh(x) và n là số lần lặp muốn xấp xỉ. Return về\n",
        "kết quả sinh(x) với bậc xấp xỉ tương ứng. Đầu ra của chương trình sau đây là gì?"
      ],
      "metadata": {
        "id": "EeswmVFXFI6P"
      }
    },
    {
      "cell_type": "code",
      "source": [
        "def approx_sinh(x, n):\n",
        "    sinh_x = 0\n",
        "    for i in range(n) :\n",
        "        sinh_x +=  x**(2*i + 1) / math.factorial(2*i + 1)\n",
        "    return sinh_x"
      ],
      "metadata": {
        "id": "jRKG7zq3Enj8"
      },
      "execution_count": 20,
      "outputs": []
    },
    {
      "cell_type": "code",
      "source": [
        "assert round ( approx_sinh ( x =1 , n =10) , 2) ==1.18"
      ],
      "metadata": {
        "id": "biDRnPcHEulU"
      },
      "execution_count": 21,
      "outputs": []
    },
    {
      "cell_type": "code",
      "source": [
        "print ( round ( approx_sinh ( x =3.14 , n =10) , 2) )"
      ],
      "metadata": {
        "colab": {
          "base_uri": "https://localhost:8080/"
        },
        "id": "I6MAqiOYEwHc",
        "outputId": "b60e1bb8-9702-4c85-c356-729f76a09052"
      },
      "execution_count": 22,
      "outputs": [
        {
          "output_type": "stream",
          "name": "stdout",
          "text": [
            "11.53\n"
          ]
        }
      ]
    },
    {
      "cell_type": "markdown",
      "source": [
        "Câu hỏi 12 : Dựa vào công thức xấp xỉ cosh và điều kiện được giới thiệu các bạn click ở đây. Viết\n",
        "function xấp xỉ cosh khi nhận x là giá trị muốn tính cosh(x) và n là số lần lặp muốn xấp xỉ. Return về\n",
        "kết quả cosh(x) với bậc xấp xỉ tương ứng. Đầu ra của chương trình sau đây là gì?"
      ],
      "metadata": {
        "id": "WF6tkyZIFKI8"
      }
    },
    {
      "cell_type": "code",
      "source": [
        "def approx_cosh(x, n):\n",
        "    cosh_x = 0\n",
        "    for i in range(n) :\n",
        "        cosh_x += (x**(2*i)) / math.factorial(2*i)\n",
        "    return cosh_x"
      ],
      "metadata": {
        "id": "1hHGcUI5FBYi"
      },
      "execution_count": 23,
      "outputs": []
    },
    {
      "cell_type": "code",
      "source": [
        "assert round ( approx_cosh ( x =1 , n =10) , 2) ==1.54\n",
        "print ( round ( approx_cosh ( x =3.14 , n =10) , 2) )"
      ],
      "metadata": {
        "colab": {
          "base_uri": "https://localhost:8080/"
        },
        "id": "nv_rJO28FRPS",
        "outputId": "4ef5c519-a7ce-40d8-f6ff-e2cf8a594a67"
      },
      "execution_count": 24,
      "outputs": [
        {
          "output_type": "stream",
          "name": "stdout",
          "text": [
            "11.57\n"
          ]
        }
      ]
    },
    {
      "cell_type": "code",
      "source": [],
      "metadata": {
        "id": "PEbom6g4Fjv2"
      },
      "execution_count": null,
      "outputs": []
    }
  ]
}