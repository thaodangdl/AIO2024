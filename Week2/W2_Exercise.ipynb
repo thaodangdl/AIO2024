{
  "nbformat": 4,
  "nbformat_minor": 0,
  "metadata": {
    "colab": {
      "provenance": []
    },
    "kernelspec": {
      "name": "python3",
      "display_name": "Python 3"
    },
    "language_info": {
      "name": "python"
    }
  },
  "cells": [
    {
      "cell_type": "markdown",
      "source": [
        "# Câu hỏi tự luận"
      ],
      "metadata": {
        "id": "PBTog0LUe7-P"
      }
    },
    {
      "cell_type": "markdown",
      "source": [
        "## 1.\n",
        "Cho một list các số nguyên num_list và một sliding window có kích thước size k di chuyển từ trái sang phải. Mỗi lần dịch chuyển 1 vị trí sang phải có thể nhìn thấy đươc k số trong num_list và tìm số lớn nhất trong k số này sau mỗi lần trượt k phải lớn hơn hoặc bằng 1"
      ],
      "metadata": {
        "id": "rOvbCcezfFU5"
      }
    },
    {
      "cell_type": "markdown",
      "source": [
        "Input: num_list = [3, 4, 5, 1, -44 , 5 ,10, 12 ,33, 1] với k=3\n",
        "\n",
        "Output: [5, 5, 5, 5, 10, 12, 33, 33]\n",
        "\n",
        "Ví dụ:\n",
        "\n",
        "[3, 4, 5], 1, -44 , 5 ,10, 12 ,33, 1 => max 5\n",
        "\n",
        "3, [4, 5, 1], -44 , 5 ,10, 12 ,33, 1 => max 5\n",
        "\n",
        "3, 4, [5, 1, -44] , 5 ,10, 12 ,33, 1 => max 5\n",
        "\n",
        "3, 4, 5, [1, -44 , 5] ,10, 12 ,33, 1 => max 5\n",
        "\n",
        "3, 4, 5, 1, [-44 , 5 ,10], 12 ,33, 1 => max 10\n",
        "\n",
        "3, 4, 5, 1, -44 , [5 ,10, 12] ,33, 1 => max 12\n",
        "\n",
        "3, 4, 5, 1, -44 , 5 ,[10, 12 ,33], 1 => max 33\n",
        "\n",
        "3, 4, 5, 1, -44 , 5 ,10, [12 ,33, 1] => max 33"
      ],
      "metadata": {
        "id": "GbWDJK-SfbLw"
      }
    },
    {
      "cell_type": "code",
      "execution_count": 2,
      "metadata": {
        "colab": {
          "base_uri": "https://localhost:8080/"
        },
        "id": "3yOKjVslewQR",
        "outputId": "ac577a96-f4b6-4013-e4ae-5a16a9dbd388"
      },
      "outputs": [
        {
          "output_type": "stream",
          "name": "stdout",
          "text": [
            "5\n",
            "5\n",
            "5\n",
            "5\n",
            "10\n",
            "12\n",
            "33\n",
            "33\n"
          ]
        }
      ],
      "source": [
        "num_list = [3, 4, 5, 1, -44 , 5 ,10, 12 ,33, 1]\n",
        "k = 3\n",
        "\n",
        "for each in range(len(num_list)-k+1):\n",
        "    print(max(num_list[each:each+k]))"
      ]
    },
    {
      "cell_type": "markdown",
      "source": [
        "## 2.\n",
        "Thực hiện theo các yêu cầu sau.\n",
        "Viết function trả về một dictionary đếm số lượng chữ xuất hiện trong một từ, với key là chữ cái và value là số lần xuất hiện\n",
        "- Input: một từ\n",
        "- Output: dictionary đếm số lần các chữ xuất hiện\n",
        "- Note: Giả sử các từ nhập vào đều có các chữ cái thuộc [a-z] hoặc [A-Z]"
      ],
      "metadata": {
        "id": "nIrj_K13f7Fv"
      }
    },
    {
      "cell_type": "code",
      "source": [
        "def count_chars(string):\n",
        "    count = {}\n",
        "    for char in string:\n",
        "        if char in count:\n",
        "            count[char] += 1\n",
        "        else:\n",
        "            count[char] = 1\n",
        "    return count"
      ],
      "metadata": {
        "id": "I-WEqN13gKq2"
      },
      "execution_count": 3,
      "outputs": []
    },
    {
      "cell_type": "code",
      "source": [
        "string = \"Happiness\"\n",
        "\n",
        "count_chars(string)"
      ],
      "metadata": {
        "colab": {
          "base_uri": "https://localhost:8080/"
        },
        "id": "A9okCmQUgWcW",
        "outputId": "c16c5735-d181-4058-b368-3cdbecb78b21"
      },
      "execution_count": 4,
      "outputs": [
        {
          "output_type": "execute_result",
          "data": {
            "text/plain": [
              "{'H': 1, 'a': 1, 'p': 2, 'i': 1, 'n': 1, 'e': 1, 's': 2}"
            ]
          },
          "metadata": {},
          "execution_count": 4
        }
      ]
    },
    {
      "cell_type": "code",
      "source": [
        "string = \"smiles\"\n",
        "\n",
        "count_chars(string)"
      ],
      "metadata": {
        "colab": {
          "base_uri": "https://localhost:8080/"
        },
        "id": "JwsXLHZ7gbQj",
        "outputId": "645ef65c-6730-4925-f937-9dc7d4602738"
      },
      "execution_count": 5,
      "outputs": [
        {
          "output_type": "execute_result",
          "data": {
            "text/plain": [
              "{'s': 2, 'm': 1, 'i': 1, 'l': 1, 'e': 1}"
            ]
          },
          "metadata": {},
          "execution_count": 5
        }
      ]
    },
    {
      "cell_type": "markdown",
      "source": [
        "## 3.\n",
        "Thực hiện theo các yêu cầu sau.\n",
        "Viết function đọc các câu trong một file txt, đếm số lượng các từ xuất hiện và trả về một dictionary\n",
        "với key là từ và value là số lần từ đó xuất hiện.\n",
        "• Input: Đường dẫn đến file txt\n",
        "• Output: dictionary đếm số lần các từ xuất hiện\n",
        "• Note:\n",
        "– Giả sử các từ trong file txt đều có các chữ cái thuộc [a-z] hoặc [A-Z]\n",
        "– Không cần các thao tác xử lý string phức tạp nhưng cần xử lý các từ đều là viết\n",
        "thường\n",
        "– Các bạn dùng lệnh này để download\n",
        "!gdown https://drive.google.com/uc?id=1IBScGdW2xlNsc9v5zSAya548kNgiOrko"
      ],
      "metadata": {
        "id": "yz273dBPgq4E"
      }
    },
    {
      "cell_type": "code",
      "source": [
        "!gdown https://drive.google.com/uc?id=1IBScGdW2xlNsc9v5zSAya548kNgiOrko"
      ],
      "metadata": {
        "colab": {
          "base_uri": "https://localhost:8080/"
        },
        "id": "USoTQ-OK2H8z",
        "outputId": "efd4eb1b-ad9e-4a3f-f02b-5ad7f13de721"
      },
      "execution_count": 60,
      "outputs": [
        {
          "output_type": "stream",
          "name": "stdout",
          "text": [
            "Downloading...\n",
            "From: https://drive.google.com/uc?id=1IBScGdW2xlNsc9v5zSAya548kNgiOrko\n",
            "To: /content/P1_data.txt\n",
            "\r  0% 0.00/747 [00:00<?, ?B/s]\r100% 747/747 [00:00<00:00, 3.21MB/s]\n"
          ]
        }
      ]
    },
    {
      "cell_type": "code",
      "source": [
        "import re\n",
        "\n",
        "def word_count(file_path):\n",
        "    word_count_dict = {}\n",
        "\n",
        "    with open(file_path, 'r') as file:\n",
        "        for line in file:\n",
        "            words = re.findall(r'\\b[a-zA-Z]+\\b', line.lower())\n",
        "            for word in words:\n",
        "                if word in word_count_dict:\n",
        "                    word_count_dict[word] += 1\n",
        "                else:\n",
        "                    word_count_dict[word] = 1\n",
        "\n",
        "    return word_count_dict\n",
        "\n",
        "file_path = '/content/P1_data.txt'\n",
        "print(word_count(file_path))"
      ],
      "metadata": {
        "colab": {
          "base_uri": "https://localhost:8080/"
        },
        "id": "3TwmHw5I2Bbk",
        "outputId": "431f4b00-b982-4978-b52f-dd8fdc037238"
      },
      "execution_count": 62,
      "outputs": [
        {
          "output_type": "stream",
          "name": "stdout",
          "text": [
            "{'he': 1, 'who': 3, 'conquers': 1, 'himself': 1, 'is': 3, 'the': 5, 'mightiest': 1, 'warrior': 1, 'try': 2, 'not': 1, 'to': 3, 'become': 2, 'a': 7, 'man': 6, 'of': 4, 'success': 3, 'but': 1, 'rather': 1, 'value': 1, 'one': 4, 'with': 4, 'courage': 1, 'makes': 1, 'majority': 1, 'secret': 1, 'in': 4, 'life': 2, 'for': 3, 'be': 1, 'ready': 1, 'his': 2, 'opportunity': 1, 'when': 2, 'it': 2, 'comes': 2, 'successful': 2, 'will': 2, 'profit': 1, 'from': 1, 'mistakes': 1, 'and': 1, 'again': 1, 'different': 1, 'way': 1, 'can': 3, 'lay': 1, 'firm': 1, 'foundation': 1, 'bricks': 1, 'others': 1, 'have': 1, 'thrown': 1, 'at': 1, 'him': 1, 'usually': 1, 'those': 1, 'are': 1, 'too': 1, 'busy': 1, 'looking': 1, 'we': 3, 'cannot': 1, 'solve': 1, 'problems': 1, 'kind': 1, 'thinking': 1, 'employed': 1, 'came': 1, 'up': 1, 'them': 1, 'just': 2, 'small': 1, 'positive': 1, 'thought': 1, 'morning': 1, 'change': 1, 'your': 1, 'whole': 1, 'day': 1, 'you': 3, 'get': 2, 'everything': 1, 'want': 2, 'if': 1, 'help': 1, 'enough': 1, 'other': 1, 'people': 1, 'what': 1, 'they': 1}\n"
          ]
        }
      ]
    },
    {
      "cell_type": "markdown",
      "source": [
        "## 4. Khoảng cách Levenshtein."
      ],
      "metadata": {
        "id": "1qhNKcKl2QXE"
      }
    },
    {
      "cell_type": "code",
      "source": [
        "def levenshtein_distance(token1, token2):\n",
        "    distance = [[0 for _ in range(len(token2) + 1)] for _ in range(len(token1) + 1)]\n",
        "    for i in range(len(token1) + 1):\n",
        "        distance[i][0] = i\n",
        "    for j in range(len(token2) + 1):\n",
        "        distance[0][j] = j\n",
        "\n",
        "\n",
        "    for i in range(1, len(token1) + 1):\n",
        "        for j in range(1, len(token2) + 1):\n",
        "            if token1[i - 1] == token2[j - 1]:\n",
        "                distance[i][j] = distance[i - 1][j - 1]\n",
        "\n",
        "            else:\n",
        "                distance[i][j] = 1 + min(distance[i - 1][j], distance[i][j - 1], distance[i - 1][j - 1])\n",
        "\n",
        "\n",
        "    return distance[len(token1)][len(token2)]"
      ],
      "metadata": {
        "id": "0wj4rYOB2WP4"
      },
      "execution_count": 63,
      "outputs": []
    },
    {
      "cell_type": "markdown",
      "source": [
        "# Câu hỏi trắc nghiệm"
      ],
      "metadata": {
        "id": "6KvQfLYoSjQQ"
      }
    },
    {
      "cell_type": "markdown",
      "source": [
        "Câu hỏi 1:(Code) Hoàn thành chương trình sau với mô tả bài toán từ câu I.1. Đầu ra của chương trình dưới đây là gì?"
      ],
      "metadata": {
        "id": "8-pfjF4kSv9J"
      }
    },
    {
      "cell_type": "code",
      "source": [
        "def max_kernel(num_list, k):\n",
        "    result = []\n",
        "    for i in range(len(num_list) - k + 1):\n",
        "        result.append(max(num_list[i:i + k]))\n",
        "    return result\n",
        "\n",
        "# Test the function with an example\n",
        "assert max_kernel([3, 4, 5, 1, -44], 3) == [5, 5, 5]\n"
      ],
      "metadata": {
        "id": "o4xZg5hUSkcF"
      },
      "execution_count": 6,
      "outputs": []
    },
    {
      "cell_type": "code",
      "source": [
        "num_list = [3, 4, 5, 1, -44, 5, 10, 12, 33, 1]\n",
        "k = 3\n",
        "print (max_kernel(num_list, k))"
      ],
      "metadata": {
        "colab": {
          "base_uri": "https://localhost:8080/"
        },
        "id": "MUspzEwGTPIz",
        "outputId": "4d780fe3-1925-4162-8284-ecb2f5cf92d1"
      },
      "execution_count": 7,
      "outputs": [
        {
          "output_type": "stream",
          "name": "stdout",
          "text": [
            "[5, 5, 5, 5, 10, 12, 33, 33]\n"
          ]
        }
      ]
    },
    {
      "cell_type": "markdown",
      "source": [
        "Câu hỏi 2:(Code) Hoàn thành chương trình sau với mô tả bài toán từ câu I.2. Đầu ra của chương trình\n",
        "dưới đây là gì?"
      ],
      "metadata": {
        "id": "HfhGrc-KTd_G"
      }
    },
    {
      "cell_type": "code",
      "source": [
        "def character_count(word):\n",
        "    character_statistic = {}\n",
        "    for char in word:\n",
        "        if char in character_statistic:\n",
        "            character_statistic[char] += 1\n",
        "        else:\n",
        "            character_statistic[char] = 1\n",
        "    return character_statistic"
      ],
      "metadata": {
        "id": "v7B5S-oaTXM7"
      },
      "execution_count": 8,
      "outputs": []
    },
    {
      "cell_type": "code",
      "source": [
        "assert character_count(\"Baby\") == {\"B\": 1, \"a\": 1 , \"b\": 1, \"y\": 1}"
      ],
      "metadata": {
        "id": "5LPyhRpeTpv3"
      },
      "execution_count": 9,
      "outputs": []
    },
    {
      "cell_type": "code",
      "source": [
        "print(character_count(\"smiles\"))"
      ],
      "metadata": {
        "colab": {
          "base_uri": "https://localhost:8080/"
        },
        "id": "XLwszz5WTx9J",
        "outputId": "d0da1fa0-7259-4e29-c84b-6a01fe304cf2"
      },
      "execution_count": 10,
      "outputs": [
        {
          "output_type": "stream",
          "name": "stdout",
          "text": [
            "{'s': 2, 'm': 1, 'i': 1, 'l': 1, 'e': 1}\n"
          ]
        }
      ]
    },
    {
      "cell_type": "markdown",
      "source": [
        "Câu hỏi 3:(Code) Hoàn thành chương trình sau với mô tả bài toán từ câu I.3. Đầu ra của chương trình\n",
        "dưới đây là gì?"
      ],
      "metadata": {
        "id": "sz2hR3HhT6AD"
      }
    },
    {
      "cell_type": "code",
      "source": [
        " !gdown https://drive.google.com/uc?id=1IBScGdW2xlNsc9v5zSAya548kNgiOrko"
      ],
      "metadata": {
        "colab": {
          "base_uri": "https://localhost:8080/"
        },
        "id": "F04STvf8T_17",
        "outputId": "15cabd88-25e6-4e53-bed8-512b72c3cff2"
      },
      "execution_count": 11,
      "outputs": [
        {
          "output_type": "stream",
          "name": "stdout",
          "text": [
            "Downloading...\n",
            "From: https://drive.google.com/uc?id=1IBScGdW2xlNsc9v5zSAya548kNgiOrko\n",
            "To: /content/P1_data.txt\n",
            "\r  0% 0.00/747 [00:00<?, ?B/s]\r100% 747/747 [00:00<00:00, 1.51MB/s]\n"
          ]
        }
      ]
    },
    {
      "cell_type": "code",
      "source": [
        "def count_word ( file_path ) :\n",
        "  counter = {}\n",
        "  with open ( file_path , 'r' ) as f :\n",
        "    for line in f :\n",
        "      for word in line.split ( ) :\n",
        "        if word in counter :\n",
        "          counter [ word ] += 1\n",
        "        else :\n",
        "          counter [ word ] = 1\n",
        "  return counter"
      ],
      "metadata": {
        "id": "EN4N3SxaT2Hy"
      },
      "execution_count": 12,
      "outputs": []
    },
    {
      "cell_type": "code",
      "source": [
        "file_path = \"/content/P1_data.txt\"\n",
        "result = count_word ( file_path )\n",
        "assert result ['who'] == 3"
      ],
      "metadata": {
        "id": "YA7f4iupWVh-"
      },
      "execution_count": 13,
      "outputs": []
    },
    {
      "cell_type": "code",
      "source": [
        "print ( result ['man'])"
      ],
      "metadata": {
        "colab": {
          "base_uri": "https://localhost:8080/"
        },
        "id": "MXg7loiEWoiR",
        "outputId": "e849dcf4-df24-455e-aa90-65426970df0c"
      },
      "execution_count": 14,
      "outputs": [
        {
          "output_type": "stream",
          "name": "stdout",
          "text": [
            "6\n"
          ]
        }
      ]
    },
    {
      "cell_type": "markdown",
      "source": [
        "Câu hỏi 4:(Code) Hoàn thành chương trình sau với mô tả bài toán từ câu I.4. Đầu ra của chương trình\n",
        "dưới đây là gì?"
      ],
      "metadata": {
        "id": "0fLv9hEhWzH0"
      }
    },
    {
      "cell_type": "code",
      "source": [
        "def levenshtein_distance(token1, token2):\n",
        "    distance = [[0 for _ in range(len(token2) + 1)] for _ in range(len(token1) + 1)]\n",
        "    for i in range(len(token1) + 1):\n",
        "        distance[i][0] = i\n",
        "    for j in range(len(token2) + 1):\n",
        "        distance[0][j] = j\n",
        "\n",
        "\n",
        "    for i in range(1, len(token1) + 1):\n",
        "        for j in range(1, len(token2) + 1):\n",
        "            if token1[i - 1] == token2[j - 1]:\n",
        "                distance[i][j] = distance[i - 1][j - 1]\n",
        "\n",
        "            else:\n",
        "                distance[i][j] = 1 + min(distance[i - 1][j], distance[i][j - 1], distance[i - 1][j - 1])\n",
        "\n",
        "\n",
        "    return distance[len(token1)][len(token2)]"
      ],
      "metadata": {
        "id": "Nii5WskDWqdW"
      },
      "execution_count": 15,
      "outputs": []
    },
    {
      "cell_type": "code",
      "source": [
        "assert levenshtein_distance(\"hi\", \"hello\") == 4.0"
      ],
      "metadata": {
        "id": "giveODfJXIbo"
      },
      "execution_count": 16,
      "outputs": []
    },
    {
      "cell_type": "code",
      "source": [
        "print(levenshtein_distance(\"hola\", \"hello\"))"
      ],
      "metadata": {
        "colab": {
          "base_uri": "https://localhost:8080/"
        },
        "id": "XDcnPQEeXNFT",
        "outputId": "a7dfc418-9b07-47ad-b14b-b7dac2f011ae"
      },
      "execution_count": 17,
      "outputs": [
        {
          "output_type": "stream",
          "name": "stdout",
          "text": [
            "3\n"
          ]
        }
      ]
    },
    {
      "cell_type": "markdown",
      "source": [
        "Câu hỏi 5:(Code) Hoàn thành chương trình sau. Đầu ra của chương trình dưới đây là gì?"
      ],
      "metadata": {
        "id": "3zLOwHUtYNan"
      }
    },
    {
      "cell_type": "code",
      "source": [
        "def check_the_number(N):\n",
        "    list_of_numbers = []\n",
        "    results = \"\"\n",
        "\n",
        "    for i in range(1, 5):\n",
        "        for j in range(1, 5):\n",
        "            for k in range(1, 5):\n",
        "                for l in range(1, 5):\n",
        "                    if i != j and i != k and i != l and j != k and j != l and k != l and (i + j + k + l) == N:\n",
        "                        list_of_numbers.append((i, j, k, l))\n",
        "    if N in list_of_numbers:\n",
        "        results = \"True\"\n",
        "    if N not in list_of_numbers:\n",
        "        results = \"False\"\n",
        "\n",
        "    return results"
      ],
      "metadata": {
        "id": "ihtQDK-GYHas"
      },
      "execution_count": 18,
      "outputs": []
    },
    {
      "cell_type": "code",
      "source": [
        "N = 7\n",
        "assert check_the_number(N) == \"False\""
      ],
      "metadata": {
        "id": "U9B4XBtuYuHm"
      },
      "execution_count": 19,
      "outputs": []
    },
    {
      "cell_type": "code",
      "source": [
        "N = 2\n",
        "results= check_the_number(N)\n",
        "print(results)"
      ],
      "metadata": {
        "colab": {
          "base_uri": "https://localhost:8080/"
        },
        "id": "Whln19GJY2Cz",
        "outputId": "e7e309dc-1cd0-4de6-ee85-384c075832f1"
      },
      "execution_count": 20,
      "outputs": [
        {
          "output_type": "stream",
          "name": "stdout",
          "text": [
            "False\n"
          ]
        }
      ]
    },
    {
      "cell_type": "markdown",
      "source": [
        "Câu hỏi 6:(Code) Hãy hoàn thành chương trình dưới đây. Đầu ra của chương trình là gì?"
      ],
      "metadata": {
        "id": "kk6CHC74aiRD"
      }
    },
    {
      "cell_type": "code",
      "source": [
        "def my_function(data, max, min):\n",
        "    result = []\n",
        "    for i in data:\n",
        "        # Neu i < min thi them min vao result\n",
        "        if i < min:\n",
        "            result.append(min)\n",
        "        # Neu i > max thi them max vao result\n",
        "        elif i > max:\n",
        "            result.append(max)\n",
        "        else:\n",
        "            result.append(i)\n",
        "    return result"
      ],
      "metadata": {
        "id": "PUfGEbo0aOaw"
      },
      "execution_count": 21,
      "outputs": []
    },
    {
      "cell_type": "code",
      "source": [
        "my_list = [5, 2, 5, 0, 1]\n",
        "max = 1\n",
        "min = 0\n",
        "assert my_function(max = max, min = min, data = my_list) == [1,1,1,0,1]"
      ],
      "metadata": {
        "id": "yYFJXaAnaF0C"
      },
      "execution_count": 22,
      "outputs": []
    },
    {
      "cell_type": "code",
      "source": [
        "my_list = [10, 2, 5, 0, 1]\n",
        "max = 2\n",
        "min = 1\n",
        "results = my_function(max = max, min = min, data = my_list)\n",
        "print(results)"
      ],
      "metadata": {
        "colab": {
          "base_uri": "https://localhost:8080/"
        },
        "id": "lAan2TpXbNS2",
        "outputId": "6ff741dd-29e2-4788-cfd8-4c6ffe939f86"
      },
      "execution_count": 23,
      "outputs": [
        {
          "output_type": "stream",
          "name": "stdout",
          "text": [
            "[2, 2, 2, 1, 1]\n"
          ]
        }
      ]
    },
    {
      "cell_type": "markdown",
      "source": [
        "Câu hỏi 7:(code) Hãy hoàn thành chương trình dưới đây. Đầu ra của chương trình là gì?"
      ],
      "metadata": {
        "id": "KlJBsCXcbWXF"
      }
    },
    {
      "cell_type": "code",
      "source": [
        "def my_function(x, y):\n",
        "    # Su dung extend de noi y vao x\n",
        "    x.extend(y)\n",
        "    return x"
      ],
      "metadata": {
        "id": "yNsDjY5AbQpA"
      },
      "execution_count": 24,
      "outputs": []
    },
    {
      "cell_type": "code",
      "source": [
        "list_num1 = ['a', 2, 5]\n",
        "list_num2 = [1, 1]\n",
        "list_num3 = [0, 0]"
      ],
      "metadata": {
        "id": "xgp7IBmVbepv"
      },
      "execution_count": 25,
      "outputs": []
    },
    {
      "cell_type": "code",
      "source": [
        "assert my_function(list_num1, my_function(list_num2, list_num3)) == [\"a\", 2 , 5, 1, 1, 0 , 0]"
      ],
      "metadata": {
        "id": "HpwJha1Wbk3M"
      },
      "execution_count": 26,
      "outputs": []
    },
    {
      "cell_type": "code",
      "source": [
        "list_num1 = [1, 2]\n",
        "list_num2 = [3, 4]\n",
        "list_num3 = [0, 0]\n",
        "\n",
        "print(my_function(list_num1, my_function(list_num2, list_num3)))"
      ],
      "metadata": {
        "colab": {
          "base_uri": "https://localhost:8080/"
        },
        "id": "lBryiAdrbsHr",
        "outputId": "0a8792a4-6487-48ea-8d0e-0a122148bfdf"
      },
      "execution_count": 27,
      "outputs": [
        {
          "output_type": "stream",
          "name": "stdout",
          "text": [
            "[1, 2, 3, 4, 0, 0]\n"
          ]
        }
      ]
    },
    {
      "cell_type": "markdown",
      "source": [
        "Câu hỏi 8:(code) Hãy hoàn thành chương trình tìm phần tử có giá trị nhỏ nhất trong một list dưới\n",
        "đây. Đầu ra của chương trình là gì?"
      ],
      "metadata": {
        "id": "s1MjiMV6b8co"
      }
    },
    {
      "cell_type": "code",
      "source": [
        "def my_function(n):\n",
        "    min = n[0]\n",
        "    for i in n:\n",
        "        if i < min:\n",
        "            min = i\n",
        "    return min"
      ],
      "metadata": {
        "id": "bhjtg7P3b2kV"
      },
      "execution_count": 28,
      "outputs": []
    },
    {
      "cell_type": "code",
      "source": [
        "my_list = [1, 22, 93, -100]\n",
        "assert my_function(my_list) == -100"
      ],
      "metadata": {
        "id": "zrIG1kfbcDVF"
      },
      "execution_count": 29,
      "outputs": []
    },
    {
      "cell_type": "code",
      "source": [
        "my_list = [1, 2, 3, -1]\n",
        "print(my_function(my_list))"
      ],
      "metadata": {
        "colab": {
          "base_uri": "https://localhost:8080/"
        },
        "id": "EkyhszA_cHgG",
        "outputId": "bc0d5569-898c-4e99-f529-5aca7169a905"
      },
      "execution_count": 30,
      "outputs": [
        {
          "output_type": "stream",
          "name": "stdout",
          "text": [
            "-1\n"
          ]
        }
      ]
    },
    {
      "cell_type": "markdown",
      "source": [
        "Câu hỏi 9:(code) Hãy hoàn thành chương trình tìm phần tử có giá trị lớn nhất trong một list dưới\n",
        "đây. Đầu ra của chương trình là gì?"
      ],
      "metadata": {
        "id": "WkzqpGcucQXl"
      }
    },
    {
      "cell_type": "code",
      "source": [
        "def my_function(n):\n",
        "    max = n[0]\n",
        "    for i in n:\n",
        "        if i > max:\n",
        "            max = i\n",
        "    return max"
      ],
      "metadata": {
        "id": "H6rCAFOYcKpw"
      },
      "execution_count": 31,
      "outputs": []
    },
    {
      "cell_type": "code",
      "source": [
        "my_list = [1001, 9, 100, 0]\n",
        "assert my_function(my_list) ==  1001"
      ],
      "metadata": {
        "id": "jX8pHmu7cXLR"
      },
      "execution_count": 32,
      "outputs": []
    },
    {
      "cell_type": "code",
      "source": [
        "my_list = [1, 9, 9, 0]\n",
        "print(my_function(my_list))"
      ],
      "metadata": {
        "colab": {
          "base_uri": "https://localhost:8080/"
        },
        "id": "re2_1pT_cc5m",
        "outputId": "f0a39853-bab1-4522-8320-98631891ef22"
      },
      "execution_count": 33,
      "outputs": [
        {
          "output_type": "stream",
          "name": "stdout",
          "text": [
            "9\n"
          ]
        }
      ]
    },
    {
      "cell_type": "markdown",
      "source": [
        "Câu hỏi 10:(code) Hãy hoàn thành chương trình dưới đây. Đầu ra của chương trình là gì?|"
      ],
      "metadata": {
        "id": "pF88XANdclPS"
      }
    },
    {
      "cell_type": "code",
      "source": [
        "def My_function(integers, number = 1):\n",
        "\n",
        "    return any(i == number for i in integers)"
      ],
      "metadata": {
        "id": "haURmpltcgsy"
      },
      "execution_count": 34,
      "outputs": []
    },
    {
      "cell_type": "code",
      "source": [
        "my_list = [1, 3, 9, 4]\n",
        "assert My_function(my_list, -1) == False"
      ],
      "metadata": {
        "id": "h96uMv1Ec4SD"
      },
      "execution_count": 35,
      "outputs": []
    },
    {
      "cell_type": "code",
      "source": [
        "my_list = [1, 2, 3, 4]\n",
        "print(My_function(my_list, 2))"
      ],
      "metadata": {
        "colab": {
          "base_uri": "https://localhost:8080/"
        },
        "id": "11Wcedyfc9Wb",
        "outputId": "f0593aed-d458-4852-cfbb-d141e36756f4"
      },
      "execution_count": 36,
      "outputs": [
        {
          "output_type": "stream",
          "name": "stdout",
          "text": [
            "True\n"
          ]
        }
      ]
    },
    {
      "cell_type": "markdown",
      "source": [
        "Câu hỏi 11:(code) Hãy hoàn thành chương trình dưới đây. Đầu ra của chương trình là gì?"
      ],
      "metadata": {
        "id": "cg6gIXJndHF6"
      }
    },
    {
      "cell_type": "code",
      "source": [
        "def my_function(list_nums = [0, 1, 2]):\n",
        "    var = 0\n",
        "    for i in list_nums:\n",
        "        var += i\n",
        "    return var/len(list_nums)"
      ],
      "metadata": {
        "id": "ggHul1zudDj5"
      },
      "execution_count": 37,
      "outputs": []
    },
    {
      "cell_type": "code",
      "source": [
        "assert my_function([4, 6, 8]) == 6\n",
        "print(my_function())"
      ],
      "metadata": {
        "colab": {
          "base_uri": "https://localhost:8080/"
        },
        "id": "m_0ybCjkdjBD",
        "outputId": "25f03843-cedc-4dcf-850c-e11ef7ad5f54"
      },
      "execution_count": 38,
      "outputs": [
        {
          "output_type": "stream",
          "name": "stdout",
          "text": [
            "1.0\n"
          ]
        }
      ]
    },
    {
      "cell_type": "markdown",
      "source": [
        "Câu hỏi 12:(code) Hãy hoàn thành chương trình dưới đây. Đầu ra của chương trình dưới đây là gì?"
      ],
      "metadata": {
        "id": "JfGvW8JbdrN_"
      }
    },
    {
      "cell_type": "code",
      "source": [
        "def my_function(data):\n",
        "    var = []\n",
        "    for i in data:\n",
        "        # Neu i chia het cho 3 thi them i vao list var\n",
        "        if i % 3 == 0:\n",
        "            var.append(i)\n",
        "    return var"
      ],
      "metadata": {
        "id": "LlbRdWLjdnrL"
      },
      "execution_count": 39,
      "outputs": []
    },
    {
      "cell_type": "code",
      "source": [
        "assert my_function([3, 9, 4, 5]) == [3, 9]"
      ],
      "metadata": {
        "id": "uDkdntZcd1Ng"
      },
      "execution_count": 40,
      "outputs": []
    },
    {
      "cell_type": "code",
      "source": [
        "print(my_function([1,2,3,5,6]))"
      ],
      "metadata": {
        "colab": {
          "base_uri": "https://localhost:8080/"
        },
        "id": "O9bYvvNhd4gM",
        "outputId": "a05ffa6a-6dfe-452a-d563-2784e1706975"
      },
      "execution_count": 41,
      "outputs": [
        {
          "output_type": "stream",
          "name": "stdout",
          "text": [
            "[3, 6]\n"
          ]
        }
      ]
    },
    {
      "cell_type": "markdown",
      "source": [
        "Câu hỏi 13:(code) Hãy hoàn thành chương trình sau đây thực hiện tính giai thừa của 1 số. Đầu ra\n",
        "của chương trình dưới đây là gì?"
      ],
      "metadata": {
        "id": "wFj0s7Aid-48"
      }
    },
    {
      "cell_type": "code",
      "source": [
        "def my_function(y):\n",
        "    var = 1\n",
        "    while (y >1):\n",
        "        var *= y\n",
        "        y -= 1\n",
        "    return var"
      ],
      "metadata": {
        "id": "0l7Sptw4d7Fa"
      },
      "execution_count": 42,
      "outputs": []
    },
    {
      "cell_type": "code",
      "source": [
        "assert my_function(8) == 40320"
      ],
      "metadata": {
        "id": "sRkXjCWBeHd9"
      },
      "execution_count": 43,
      "outputs": []
    },
    {
      "cell_type": "code",
      "source": [
        "print(my_function(4))"
      ],
      "metadata": {
        "colab": {
          "base_uri": "https://localhost:8080/"
        },
        "id": "gND9DZBkeNUj",
        "outputId": "d2267b5f-1d10-4868-c95d-36fa64be8edc"
      },
      "execution_count": 44,
      "outputs": [
        {
          "output_type": "stream",
          "name": "stdout",
          "text": [
            "24\n"
          ]
        }
      ]
    },
    {
      "cell_type": "markdown",
      "source": [
        "Câu hỏi 14:(code) Hãy hoàn thành chương trình đảo ngược chuỗi dưới đây. Đầu ra của chương trình\n",
        "là gì?"
      ],
      "metadata": {
        "id": "ypqdppygeYDq"
      }
    },
    {
      "cell_type": "code",
      "source": [
        "def my_function(x):\n",
        "    var = \"\"\n",
        "    for i in range(len(x)-1, -1, -1):\n",
        "        var += x[i]\n",
        "    return var"
      ],
      "metadata": {
        "id": "3CcOYSV5eT_p"
      },
      "execution_count": 45,
      "outputs": []
    },
    {
      "cell_type": "code",
      "source": [
        "x = \"I can do it\"\n",
        "assert my_function(x) == \"ti od nac I\""
      ],
      "metadata": {
        "id": "Ul8FFrr0efgP"
      },
      "execution_count": 46,
      "outputs": []
    },
    {
      "cell_type": "code",
      "source": [
        "x = \"apricot\"\n",
        "print(my_function(x))"
      ],
      "metadata": {
        "colab": {
          "base_uri": "https://localhost:8080/"
        },
        "id": "nUi7hh5Fem9Z",
        "outputId": "00b0d9c8-30d4-4ba9-a4b3-1e2fb158f4c9"
      },
      "execution_count": 47,
      "outputs": [
        {
          "output_type": "stream",
          "name": "stdout",
          "text": [
            "tocirpa\n"
          ]
        }
      ]
    },
    {
      "cell_type": "markdown",
      "source": [
        "Câu hỏi 15:(code) Hãy hoàn thành chương trình dưới đây. Đầu ra của chương trình là gì?"
      ],
      "metadata": {
        "id": "Kb214t5bfEn9"
      }
    },
    {
      "cell_type": "code",
      "source": [
        "def function_helper(x):\n",
        "    # Neu x >0 tra ve \"T\", nguoc lai tra ve \"N\"\n",
        "    if x > 0:\n",
        "        return \"T\"\n",
        "    else:\n",
        "        return \"N\"\n",
        "\n",
        "def my_function(data):\n",
        "    res = [function_helper(x) for x in data]\n",
        "\n",
        "    return res\n",
        "\n",
        "data = [10, 0, -10, -1]\n",
        "assert my_function(data) == [\"T\", \"N\", \"N\", \"N\"]"
      ],
      "metadata": {
        "id": "NOdI3Hytep5r"
      },
      "execution_count": 48,
      "outputs": []
    },
    {
      "cell_type": "code",
      "source": [
        "data = [2, 3, 5, -1]\n",
        "print(my_function(data))"
      ],
      "metadata": {
        "colab": {
          "base_uri": "https://localhost:8080/"
        },
        "id": "VJ6h4wZrfZdQ",
        "outputId": "8732019b-a83b-48de-f95e-2ab4f1ddcd3b"
      },
      "execution_count": 49,
      "outputs": [
        {
          "output_type": "stream",
          "name": "stdout",
          "text": [
            "['T', 'T', 'T', 'N']\n"
          ]
        }
      ]
    },
    {
      "cell_type": "markdown",
      "source": [
        "Câu hỏi 16:(code) Hãy hoàn thành chương trình dưới đây để loại bỏ những phần tử trùng nhau. Đầu\n",
        "ra của chương trình là gì?"
      ],
      "metadata": {
        "id": "RegGqBvnfhjw"
      }
    },
    {
      "cell_type": "code",
      "source": [
        "def function_helper(x, data):\n",
        "    # Neu x == i thi return 0\n",
        "    for i in data:\n",
        "        if x == i:\n",
        "            return 0\n",
        "    return 1\n",
        "\n",
        "def my_function(data):\n",
        "    res = []\n",
        "    for i in data:\n",
        "        if function_helper(i, res):\n",
        "            res.append(i)\n",
        "    return res\n"
      ],
      "metadata": {
        "id": "KiJoVS4vfdb3"
      },
      "execution_count": 57,
      "outputs": []
    },
    {
      "cell_type": "code",
      "source": [
        "lst = [10, 10, 9, 7, 7]\n",
        "assert my_function(lst) == [10, 9, 7]"
      ],
      "metadata": {
        "id": "HlMQbkJjf25w"
      },
      "execution_count": 58,
      "outputs": []
    },
    {
      "cell_type": "code",
      "source": [
        "lst = [9, 9 , 8,1 ,1]\n",
        "print(my_function(lst))"
      ],
      "metadata": {
        "colab": {
          "base_uri": "https://localhost:8080/"
        },
        "id": "V_mv5H4kf75E",
        "outputId": "17ee7b21-0d6d-43b6-a36f-59c6acd3bf77"
      },
      "execution_count": 59,
      "outputs": [
        {
          "output_type": "stream",
          "name": "stdout",
          "text": [
            "[9, 8, 1]\n"
          ]
        }
      ]
    }
  ]
}