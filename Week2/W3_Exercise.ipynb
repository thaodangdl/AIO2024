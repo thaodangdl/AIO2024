{
  "nbformat": 4,
  "nbformat_minor": 0,
  "metadata": {
    "colab": {
      "provenance": []
    },
    "kernelspec": {
      "name": "python3",
      "display_name": "Python 3"
    },
    "language_info": {
      "name": "python"
    }
  },
  "cells": [
    {
      "cell_type": "markdown",
      "source": [
        "# Câu hỏi tự luận"
      ],
      "metadata": {
        "id": "0_VKC02C6p_Q"
      }
    },
    {
      "cell_type": "markdown",
      "source": [
        "## 1. Viết class và cài phương thức softmax"
      ],
      "metadata": {
        "id": "Ao6UN0So6tXR"
      }
    },
    {
      "cell_type": "code",
      "source": [
        "!pip install torch"
      ],
      "metadata": {
        "colab": {
          "base_uri": "https://localhost:8080/"
        },
        "id": "B3wpEgmQ64sC",
        "outputId": "68a16295-0d89-48a0-8b56-f777f6767c1c"
      },
      "execution_count": 2,
      "outputs": [
        {
          "output_type": "stream",
          "name": "stdout",
          "text": [
            "Requirement already satisfied: torch in /usr/local/lib/python3.10/dist-packages (2.3.0+cu121)\n",
            "Requirement already satisfied: filelock in /usr/local/lib/python3.10/dist-packages (from torch) (3.14.0)\n",
            "Requirement already satisfied: typing-extensions>=4.8.0 in /usr/local/lib/python3.10/dist-packages (from torch) (4.12.2)\n",
            "Requirement already satisfied: sympy in /usr/local/lib/python3.10/dist-packages (from torch) (1.12.1)\n",
            "Requirement already satisfied: networkx in /usr/local/lib/python3.10/dist-packages (from torch) (3.3)\n",
            "Requirement already satisfied: jinja2 in /usr/local/lib/python3.10/dist-packages (from torch) (3.1.4)\n",
            "Requirement already satisfied: fsspec in /usr/local/lib/python3.10/dist-packages (from torch) (2023.6.0)\n",
            "Collecting nvidia-cuda-nvrtc-cu12==12.1.105 (from torch)\n",
            "  Using cached nvidia_cuda_nvrtc_cu12-12.1.105-py3-none-manylinux1_x86_64.whl (23.7 MB)\n",
            "Collecting nvidia-cuda-runtime-cu12==12.1.105 (from torch)\n",
            "  Using cached nvidia_cuda_runtime_cu12-12.1.105-py3-none-manylinux1_x86_64.whl (823 kB)\n",
            "Collecting nvidia-cuda-cupti-cu12==12.1.105 (from torch)\n",
            "  Using cached nvidia_cuda_cupti_cu12-12.1.105-py3-none-manylinux1_x86_64.whl (14.1 MB)\n",
            "Collecting nvidia-cudnn-cu12==8.9.2.26 (from torch)\n",
            "  Using cached nvidia_cudnn_cu12-8.9.2.26-py3-none-manylinux1_x86_64.whl (731.7 MB)\n",
            "Collecting nvidia-cublas-cu12==12.1.3.1 (from torch)\n",
            "  Using cached nvidia_cublas_cu12-12.1.3.1-py3-none-manylinux1_x86_64.whl (410.6 MB)\n",
            "Collecting nvidia-cufft-cu12==11.0.2.54 (from torch)\n",
            "  Using cached nvidia_cufft_cu12-11.0.2.54-py3-none-manylinux1_x86_64.whl (121.6 MB)\n",
            "Collecting nvidia-curand-cu12==10.3.2.106 (from torch)\n",
            "  Using cached nvidia_curand_cu12-10.3.2.106-py3-none-manylinux1_x86_64.whl (56.5 MB)\n",
            "Collecting nvidia-cusolver-cu12==11.4.5.107 (from torch)\n",
            "  Using cached nvidia_cusolver_cu12-11.4.5.107-py3-none-manylinux1_x86_64.whl (124.2 MB)\n",
            "Collecting nvidia-cusparse-cu12==12.1.0.106 (from torch)\n",
            "  Using cached nvidia_cusparse_cu12-12.1.0.106-py3-none-manylinux1_x86_64.whl (196.0 MB)\n",
            "Collecting nvidia-nccl-cu12==2.20.5 (from torch)\n",
            "  Using cached nvidia_nccl_cu12-2.20.5-py3-none-manylinux2014_x86_64.whl (176.2 MB)\n",
            "Collecting nvidia-nvtx-cu12==12.1.105 (from torch)\n",
            "  Using cached nvidia_nvtx_cu12-12.1.105-py3-none-manylinux1_x86_64.whl (99 kB)\n",
            "Requirement already satisfied: triton==2.3.0 in /usr/local/lib/python3.10/dist-packages (from torch) (2.3.0)\n",
            "Collecting nvidia-nvjitlink-cu12 (from nvidia-cusolver-cu12==11.4.5.107->torch)\n",
            "  Downloading nvidia_nvjitlink_cu12-12.5.40-py3-none-manylinux2014_x86_64.whl (21.3 MB)\n",
            "\u001b[2K     \u001b[90m━━━━━━━━━━━━━━━━━━━━━━━━━━━━━━━━━━━━━━━━\u001b[0m \u001b[32m21.3/21.3 MB\u001b[0m \u001b[31m62.9 MB/s\u001b[0m eta \u001b[36m0:00:00\u001b[0m\n",
            "\u001b[?25hRequirement already satisfied: MarkupSafe>=2.0 in /usr/local/lib/python3.10/dist-packages (from jinja2->torch) (2.1.5)\n",
            "Requirement already satisfied: mpmath<1.4.0,>=1.1.0 in /usr/local/lib/python3.10/dist-packages (from sympy->torch) (1.3.0)\n",
            "Installing collected packages: nvidia-nvtx-cu12, nvidia-nvjitlink-cu12, nvidia-nccl-cu12, nvidia-curand-cu12, nvidia-cufft-cu12, nvidia-cuda-runtime-cu12, nvidia-cuda-nvrtc-cu12, nvidia-cuda-cupti-cu12, nvidia-cublas-cu12, nvidia-cusparse-cu12, nvidia-cudnn-cu12, nvidia-cusolver-cu12\n",
            "Successfully installed nvidia-cublas-cu12-12.1.3.1 nvidia-cuda-cupti-cu12-12.1.105 nvidia-cuda-nvrtc-cu12-12.1.105 nvidia-cuda-runtime-cu12-12.1.105 nvidia-cudnn-cu12-8.9.2.26 nvidia-cufft-cu12-11.0.2.54 nvidia-curand-cu12-10.3.2.106 nvidia-cusolver-cu12-11.4.5.107 nvidia-cusparse-cu12-12.1.0.106 nvidia-nccl-cu12-2.20.5 nvidia-nvjitlink-cu12-12.5.40 nvidia-nvtx-cu12-12.1.105\n"
          ]
        }
      ]
    },
    {
      "cell_type": "code",
      "source": [
        "import warnings\n",
        "warnings.filterwarnings(\"ignore\")"
      ],
      "metadata": {
        "id": "E8ai7F5V9_XJ"
      },
      "execution_count": 8,
      "outputs": []
    },
    {
      "cell_type": "code",
      "execution_count": 14,
      "metadata": {
        "colab": {
          "base_uri": "https://localhost:8080/"
        },
        "id": "wIPofWoT6lje",
        "outputId": "ea1d05f9-6106-40f9-cf00-5efe4099db45"
      },
      "outputs": [
        {
          "output_type": "execute_result",
          "data": {
            "text/plain": [
              "tensor([0.0900, 0.2447, 0.6652])"
            ]
          },
          "metadata": {},
          "execution_count": 14
        }
      ],
      "source": [
        "import torch\n",
        "import torch.nn as nn\n",
        "\n",
        "class Softmax(nn.Module):\n",
        "    def __init__(self):\n",
        "        super(Softmax, self).__init__()\n",
        "\n",
        "    def forward(self, x):\n",
        "        exp_x = torch.exp(x)\n",
        "        sum_exp_x = exp_x.sum(dim=0)\n",
        "        return exp_x / sum_exp_x\n",
        "\n",
        "data = torch.Tensor([1,2,3])\n",
        "softmax = Softmax()\n",
        "output = softmax(data)\n",
        "output"
      ]
    },
    {
      "cell_type": "code",
      "source": [
        "data = torch.Tensor([1, 2, 3])\n",
        "\n",
        "\n",
        "class softmax_stable(nn.Module):\n",
        "    def __init__(self):\n",
        "        super(softmax_stable, self).__init__()\n",
        "\n",
        "    def forward(self, x):\n",
        "        c = torch.max(x)\n",
        "        exp_x = torch.exp(x - c)\n",
        "        sum_exp_x = exp_x.sum(dim=0)\n",
        "        return exp_x / sum_exp_x\n",
        "\n",
        "\n",
        "softmax_stable = softmax_stable()\n",
        "output = softmax_stable(data)\n",
        "output"
      ],
      "metadata": {
        "colab": {
          "base_uri": "https://localhost:8080/"
        },
        "id": "0HklxQvw6pSU",
        "outputId": "66fb883d-8273-4188-ff14-a709508a4aef"
      },
      "execution_count": 16,
      "outputs": [
        {
          "output_type": "execute_result",
          "data": {
            "text/plain": [
              "tensor([0.0900, 0.2447, 0.6652])"
            ]
          },
          "metadata": {},
          "execution_count": 16
        }
      ]
    },
    {
      "cell_type": "markdown",
      "source": [
        "## 2 Ward"
      ],
      "metadata": {
        "id": "pL97wry--3IL"
      }
    },
    {
      "cell_type": "code",
      "source": [
        "class Person:\n",
        "    def __init__(self, name, yob):\n",
        "        self.name = name\n",
        "        self.yob = yob\n",
        "\n",
        "    def describe(self):\n",
        "        pass\n",
        "\n",
        "class Student(Person):\n",
        "    def __init__(self, name, yob, grade):\n",
        "        super().__init__(name, yob)\n",
        "        self.grade = grade\n",
        "\n",
        "    def describe(self):\n",
        "        return f\"Student - Name: {self.name} - YoB: {self.yob} - Grade: {self.grade}\"\n",
        "\n",
        "class Teacher(Person):\n",
        "    def __init__(self, name, yob, subject):\n",
        "        super().__init__(name, yob)\n",
        "        self.subject = subject\n",
        "\n",
        "    def describe(self):\n",
        "        return f\"Teacher - Name: {self.name} - YoB: {self.yob} - Subject: {self.subject}\"\n",
        "\n",
        "class Doctor(Person):\n",
        "    def __init__(self, name, yob, specialist):\n",
        "        super().__init__(name, yob)\n",
        "        self.specialist = specialist\n",
        "\n",
        "    def describe(self):\n",
        "        return f\"Doctor - Name: {self.name} - YoB: {self.yob} - Specialist: {self.specialist}\"\n"
      ],
      "metadata": {
        "id": "qmy769PE-HEA"
      },
      "execution_count": 22,
      "outputs": []
    },
    {
      "cell_type": "code",
      "source": [
        "class Ward:\n",
        "    def __init__(self, name):\n",
        "        self.name =name\n",
        "        self.people =[]\n",
        "\n",
        "    def add_person(self, person):\n",
        "        self.people.append(person)\n",
        "\n",
        "    def describe(self):\n",
        "        print(f\"Ward: {self.name}\")\n",
        "        for person in self.people:\n",
        "            print(person.describe())\n",
        "\n",
        "    def count_doctor(self):\n",
        "        return sum(1 for person in self.people if isinstance(person, Doctor))\n",
        "\n",
        "    def sort_age(self):\n",
        "        self.people.sort(key=lambda person: person.yob, reverse = True)\n",
        "\n",
        "\n",
        "    def compute_average(self):\n",
        "        teachers = [person for person in self.people if isinstance(person, Teacher)]\n",
        "        if not teachers:\n",
        "            return 0\n",
        "        return sum(teacher.yob for teacher in teachers) / len(teachers)\n"
      ],
      "metadata": {
        "id": "ydSXembeAwKJ"
      },
      "execution_count": 40,
      "outputs": []
    },
    {
      "cell_type": "code",
      "source": [
        "student1 = Student ( name =\" studentA \", yob =2010 , grade =\"7\")\n",
        "student1.describe()"
      ],
      "metadata": {
        "colab": {
          "base_uri": "https://localhost:8080/",
          "height": 36
        },
        "id": "D42te9mWA84x",
        "outputId": "cf2d5577-5c26-4cff-ff99-1fdde8a00db7"
      },
      "execution_count": 41,
      "outputs": [
        {
          "output_type": "execute_result",
          "data": {
            "text/plain": [
              "'Student - Name:  studentA  - YoB: 2010 - Grade: 7'"
            ],
            "application/vnd.google.colaboratory.intrinsic+json": {
              "type": "string"
            }
          },
          "metadata": {},
          "execution_count": 41
        }
      ]
    },
    {
      "cell_type": "code",
      "source": [
        "teacher1 = Teacher ( name =\" teacherA \", yob =1969 , subject =\" Math \")\n",
        "teacher1 . describe ()"
      ],
      "metadata": {
        "colab": {
          "base_uri": "https://localhost:8080/",
          "height": 36
        },
        "id": "Tieph2SkFhfJ",
        "outputId": "cd6b6fa9-0d53-43bf-844c-5aaf7c7523c3"
      },
      "execution_count": 42,
      "outputs": [
        {
          "output_type": "execute_result",
          "data": {
            "text/plain": [
              "'Teacher - Name:  teacherA  - YoB: 1969 - Subject:  Math '"
            ],
            "application/vnd.google.colaboratory.intrinsic+json": {
              "type": "string"
            }
          },
          "metadata": {},
          "execution_count": 42
        }
      ]
    },
    {
      "cell_type": "code",
      "source": [
        "doctor1 = Doctor ( name =\" doctorA \", yob =1945 , specialist =\" Endocrinologists \")\n",
        "doctor1.describe ()"
      ],
      "metadata": {
        "colab": {
          "base_uri": "https://localhost:8080/",
          "height": 36
        },
        "id": "o1I3fTTfGD0y",
        "outputId": "c27454f8-71c1-4625-c4a8-e32c04ad709c"
      },
      "execution_count": 43,
      "outputs": [
        {
          "output_type": "execute_result",
          "data": {
            "text/plain": [
              "'Doctor - Name:  doctorA  - YoB: 1945 - Specialist:  Endocrinologists '"
            ],
            "application/vnd.google.colaboratory.intrinsic+json": {
              "type": "string"
            }
          },
          "metadata": {},
          "execution_count": 43
        }
      ]
    },
    {
      "cell_type": "code",
      "source": [
        "print ()\n",
        "teacher2 = Teacher ( name =\"teacherB \", yob =1995 , subject =\"History \")\n",
        "doctor2 = Doctor ( name =\"doctorB \", yob =1975 , specialist =\"Cardiologists \")\n",
        "ward1 = Ward ( name =\"Ward1 \")\n",
        "ward1.add_person ( student1 )\n",
        "ward1.add_person ( teacher1 )\n",
        "ward1.add_person ( teacher2 )\n",
        "ward1.add_person ( doctor1 )\n",
        "ward1.add_person ( doctor2 )\n",
        "ward1.describe ()"
      ],
      "metadata": {
        "colab": {
          "base_uri": "https://localhost:8080/"
        },
        "id": "rnAPzm_eGIjP",
        "outputId": "b0696c98-0399-4bd8-a0c5-21f1e992704d"
      },
      "execution_count": 44,
      "outputs": [
        {
          "output_type": "stream",
          "name": "stdout",
          "text": [
            "\n",
            "Ward: Ward1 \n",
            "Student - Name:  studentA  - YoB: 2010 - Grade: 7\n",
            "Teacher - Name:  teacherA  - YoB: 1969 - Subject:  Math \n",
            "Teacher - Name: teacherB  - YoB: 1995 - Subject: History \n",
            "Doctor - Name:  doctorA  - YoB: 1945 - Specialist:  Endocrinologists \n",
            "Doctor - Name: doctorB  - YoB: 1975 - Specialist: Cardiologists \n"
          ]
        }
      ]
    },
    {
      "cell_type": "code",
      "source": [
        "print ( f\"\\nNumber of doctors : { ward1.count_doctor()}\")"
      ],
      "metadata": {
        "colab": {
          "base_uri": "https://localhost:8080/"
        },
        "id": "LGU1717zGayD",
        "outputId": "223c543e-a1c1-42cc-df0a-e11e88d2d41e"
      },
      "execution_count": 45,
      "outputs": [
        {
          "output_type": "stream",
          "name": "stdout",
          "text": [
            "\n",
            "Number of doctors : 2\n"
          ]
        }
      ]
    },
    {
      "cell_type": "code",
      "source": [
        "print (\"\\nAfter sorting Age of Ward1 people \")\n",
        "ward1.sort_age()\n",
        "ward1.describe()"
      ],
      "metadata": {
        "colab": {
          "base_uri": "https://localhost:8080/"
        },
        "id": "sq3ROdD6GhLp",
        "outputId": "424f3bda-ff4d-46d8-c3ef-0549a82b0779"
      },
      "execution_count": 46,
      "outputs": [
        {
          "output_type": "stream",
          "name": "stdout",
          "text": [
            "\n",
            "After sorting Age of Ward1 people \n",
            "Ward: Ward1 \n",
            "Student - Name:  studentA  - YoB: 2010 - Grade: 7\n",
            "Teacher - Name: teacherB  - YoB: 1995 - Subject: History \n",
            "Doctor - Name: doctorB  - YoB: 1975 - Specialist: Cardiologists \n",
            "Teacher - Name:  teacherA  - YoB: 1969 - Subject:  Math \n",
            "Doctor - Name:  doctorA  - YoB: 1945 - Specialist:  Endocrinologists \n"
          ]
        }
      ]
    },
    {
      "cell_type": "code",
      "source": [
        "print( f\"\\nAverage year of birth ( teachers ): { ward1.compute_average ()}\")"
      ],
      "metadata": {
        "colab": {
          "base_uri": "https://localhost:8080/"
        },
        "id": "nQtCNr44Gq7a",
        "outputId": "dcc42af5-d0b9-4910-b1e4-cd46d34df396"
      },
      "execution_count": 47,
      "outputs": [
        {
          "output_type": "stream",
          "name": "stdout",
          "text": [
            "\n",
            "Average year of birth ( teachers ): 1982.0\n"
          ]
        }
      ]
    },
    {
      "cell_type": "markdown",
      "source": [
        "## 3"
      ],
      "metadata": {
        "id": "ydbjFmVzHVeQ"
      }
    },
    {
      "cell_type": "code",
      "source": [
        "class Stack:\n",
        "    def __init__(self, capacity):\n",
        "        self.capacity = capacity\n",
        "        self.stack = []\n",
        "\n",
        "    def is_empty(self):\n",
        "        return len(self.stack) == 0\n",
        "\n",
        "    def is_full(self):\n",
        "        return len(self.stack) == self.capacity\n",
        "\n",
        "    def pop(self):\n",
        "        if self.is_empty():\n",
        "            raise IndexError(\"Pop from an empty stack\")\n",
        "        return self.stack.pop()\n",
        "\n",
        "    def push(self, value):\n",
        "        if self.is_full():\n",
        "            raise OverflowError(\"Push to a full stack\")\n",
        "        self.stack.append(value)\n",
        "\n",
        "    def top(self):\n",
        "        if self.is_empty():\n",
        "            raise IndexError(\"Top from an empty stack\")\n",
        "        return self.stack[-1]"
      ],
      "metadata": {
        "id": "Hys3mrOSHGzp"
      },
      "execution_count": 49,
      "outputs": []
    },
    {
      "cell_type": "code",
      "source": [
        "stack1 = Stack(capacity=5)\n",
        "\n",
        "stack1.push(1)\n",
        "stack1.push(2)\n",
        "\n",
        "print(stack1.is_full())\n",
        "\n",
        "print(stack1.top())\n",
        "\n",
        "print(stack1.pop())\n",
        "\n",
        "print(stack1.top())\n",
        "\n",
        "print(stack1.pop())\n",
        "\n",
        "print(stack1.is_empty())\n"
      ],
      "metadata": {
        "colab": {
          "base_uri": "https://localhost:8080/"
        },
        "id": "V0NboT42HYcV",
        "outputId": "24f6404f-bf94-449f-d57f-6c1d49dc5d58"
      },
      "execution_count": 50,
      "outputs": [
        {
          "output_type": "stream",
          "name": "stdout",
          "text": [
            "False\n",
            "2\n",
            "2\n",
            "1\n",
            "1\n",
            "True\n"
          ]
        }
      ]
    },
    {
      "cell_type": "markdown",
      "source": [
        "## 4."
      ],
      "metadata": {
        "id": "xqCxeKcCIMgO"
      }
    },
    {
      "cell_type": "code",
      "source": [
        "class Queue:\n",
        "    def __init__(self, capacity):\n",
        "        self.capacity = capacity\n",
        "        self.queue = []\n",
        "\n",
        "    def is_empty(self):\n",
        "        return len(self.queue) == 0\n",
        "\n",
        "    def is_full(self):\n",
        "        return len(self.queue) == self.capacity\n",
        "\n",
        "    def dequeue(self):\n",
        "        if self.is_empty():\n",
        "            raise IndexError(\"Dequeue from an empty queue\")\n",
        "        return self.queue.pop(0)\n",
        "\n",
        "    def enqueue(self, value):\n",
        "        if self.is_full():\n",
        "            raise OverflowError(\"Enqueue to a full queue\")\n",
        "        self.queue.append(value)\n",
        "\n",
        "    def front(self):\n",
        "        if self.is_empty():\n",
        "            raise IndexError(\"Front from an empty queue\")\n",
        "        return self.queue[0]"
      ],
      "metadata": {
        "id": "Qv04DSjHIHyD"
      },
      "execution_count": 51,
      "outputs": []
    },
    {
      "cell_type": "code",
      "source": [
        "queue1 = Queue(capacity = 5)\n",
        "queue1.enqueue(1)\n",
        "queue1.enqueue(2)\n",
        "print(queue1.is_full())\n",
        "print(queue1.front())\n",
        "print(queue1.dequeue())\n",
        "print(queue1.front())\n",
        "print(queue1.dequeue())\n",
        "print(queue1.is_empty())"
      ],
      "metadata": {
        "colab": {
          "base_uri": "https://localhost:8080/"
        },
        "id": "WiBpTrGOIFGp",
        "outputId": "e179d353-db49-4e22-f16d-ccf57c8082f9"
      },
      "execution_count": 53,
      "outputs": [
        {
          "output_type": "stream",
          "name": "stdout",
          "text": [
            "False\n",
            "1\n",
            "1\n",
            "2\n",
            "2\n",
            "True\n"
          ]
        }
      ]
    },
    {
      "cell_type": "markdown",
      "source": [
        "# Câu hỏi trắc nghiệm"
      ],
      "metadata": {
        "id": "q58bO1CvInG3"
      }
    },
    {
      "cell_type": "markdown",
      "source": [
        "## 1\n",
        "\n",
        "Câu hỏi 1: Kết quả của đoạn code dưới đây là bao nhiêu."
      ],
      "metadata": {
        "id": "uNeqQ1thIrcl"
      }
    },
    {
      "cell_type": "code",
      "source": [
        "import torch\n",
        "import torch.nn as nn\n",
        "\n",
        "\n",
        "data = torch.Tensor([1,2,3])\n",
        "softmax = nn.Softmax()\n",
        "output = softmax(data)\n",
        "output"
      ],
      "metadata": {
        "colab": {
          "base_uri": "https://localhost:8080/"
        },
        "id": "rdgox44FIjkO",
        "outputId": "a9eeb2c7-2a24-4770-8e4c-0a68043b2247"
      },
      "execution_count": 54,
      "outputs": [
        {
          "output_type": "execute_result",
          "data": {
            "text/plain": [
              "tensor([0.0900, 0.2447, 0.6652])"
            ]
          },
          "metadata": {},
          "execution_count": 54
        }
      ]
    },
    {
      "cell_type": "code",
      "source": [
        "assert round(output[0].item(), 2) == 0.09"
      ],
      "metadata": {
        "id": "T3LjUfUlIsGV"
      },
      "execution_count": 55,
      "outputs": []
    },
    {
      "cell_type": "markdown",
      "source": [
        "## 2.\n",
        "Câu hỏi 2: Hoàn thành đoạn code sau đây theo công thức tính softmax."
      ],
      "metadata": {
        "id": "XFFmXhvMJExS"
      }
    },
    {
      "cell_type": "code",
      "source": [
        "import torch\n",
        "import torch.nn as nn\n",
        "\n",
        "class MySoftmax(nn.Module):\n",
        "    def __init__(self):\n",
        "        super().__init__()\n",
        "\n",
        "    def forward(self, x):\n",
        "        exp_x = torch.exp(x)\n",
        "        sum_exp_x = exp_x.sum(dim=0)\n",
        "        return exp_x / sum_exp_x"
      ],
      "metadata": {
        "id": "kNOOH4myI8lL"
      },
      "execution_count": 56,
      "outputs": []
    },
    {
      "cell_type": "code",
      "source": [
        "data = torch.Tensor([5, 2, 4])\n",
        "my_softmax = MySoftmax()\n",
        "output = my_softmax(data)\n",
        "assert round(output[-1].item(), 2) == 0.26"
      ],
      "metadata": {
        "id": "faqFGw4HJUzH"
      },
      "execution_count": 57,
      "outputs": []
    },
    {
      "cell_type": "code",
      "source": [
        "output"
      ],
      "metadata": {
        "colab": {
          "base_uri": "https://localhost:8080/"
        },
        "id": "9I5E_P0BJccz",
        "outputId": "2de1b707-0477-4f28-c2d3-266c6f3d2554"
      },
      "execution_count": 58,
      "outputs": [
        {
          "output_type": "execute_result",
          "data": {
            "text/plain": [
              "tensor([0.7054, 0.0351, 0.2595])"
            ]
          },
          "metadata": {},
          "execution_count": 58
        }
      ]
    },
    {
      "cell_type": "markdown",
      "source": [
        "## 3.\n",
        "Câu hỏi 3: Hoàn thành đoạn code sau đây theo công thức tính softmax."
      ],
      "metadata": {
        "id": "AF4hvRgYJhua"
      }
    },
    {
      "cell_type": "code",
      "source": [
        "data = torch.Tensor([1,2,300000000])\n",
        "my_softmax = MySoftmax()\n",
        "output = my_softmax(data)\n",
        "assert round ( output [0]. item () , 2) == 0.0"
      ],
      "metadata": {
        "id": "NohL1QYgJdXr"
      },
      "execution_count": 59,
      "outputs": []
    },
    {
      "cell_type": "code",
      "source": [
        "output"
      ],
      "metadata": {
        "colab": {
          "base_uri": "https://localhost:8080/"
        },
        "id": "bdNLaRT8J4cU",
        "outputId": "62c6e0c3-b325-4a90-e388-516729aef3cc"
      },
      "execution_count": 60,
      "outputs": [
        {
          "output_type": "execute_result",
          "data": {
            "text/plain": [
              "tensor([0., 0., nan])"
            ]
          },
          "metadata": {},
          "execution_count": 60
        }
      ]
    },
    {
      "cell_type": "markdown",
      "source": [
        "## 4.\n",
        "Câu hỏi 4: Hoàn thành đoạn code sau đây theo công thức tính stable softmax."
      ],
      "metadata": {
        "id": "kh3JpZ75J9s5"
      }
    },
    {
      "cell_type": "code",
      "source": [
        "class SoftmaxStable(nn.Module):\n",
        "    def __init__(self):\n",
        "        super().__init__()\n",
        "\n",
        "    def forward(self, x):\n",
        "        x_max = torch.max(x, dim = 0, keepdims = True)\n",
        "        x_exp = torch.exp(x - x_max.values)\n",
        "        partition = x_exp.sum(0, keepdims=True)\n",
        "        return x_exp / partition\n",
        "\n",
        "data = torch . Tensor ([1 , 2 , 3])\n",
        "softmax_stable = SoftmaxStable()\n",
        "output = softmax_stable ( data )\n",
        "assert round ( output [ -1]. item () , 2) == 0.67"
      ],
      "metadata": {
        "id": "ay5TTFFoJ5Ba"
      },
      "execution_count": 61,
      "outputs": []
    },
    {
      "cell_type": "code",
      "source": [
        "output"
      ],
      "metadata": {
        "colab": {
          "base_uri": "https://localhost:8080/"
        },
        "id": "hBs0x1lNKY0U",
        "outputId": "8b511e38-e6b9-4690-b701-e198ee2e684e"
      },
      "execution_count": 62,
      "outputs": [
        {
          "output_type": "execute_result",
          "data": {
            "text/plain": [
              "tensor([0.0900, 0.2447, 0.6652])"
            ]
          },
          "metadata": {},
          "execution_count": 62
        }
      ]
    },
    {
      "cell_type": "markdown",
      "source": [
        "## 5.\n",
        "Một người (person) có thể là student, doctor, hoặc teacher. Một student gồm có name\n",
        "(string), yob (int) (năm sinh), và grade (string). Các bạn thực hiện viết class Student theo mô tả\n",
        "trên (Các bạn sẽ viết thêm describe() method để print ra tất cả thông tin của object) và kết quả\n",
        "đầu ra là gì? Chọn đáp án đúng nhất bên dưới."
      ],
      "metadata": {
        "id": "XProkqwPKeEI"
      }
    },
    {
      "cell_type": "code",
      "source": [
        "from abc import ABC, abstractmethod\n",
        "\n",
        "class Person(ABC):\n",
        "    def __init__(self, name: str, yob: int):\n",
        "        self._name = name\n",
        "        self._yob = yob\n",
        "\n",
        "    def get_yob(self):\n",
        "        return self._yob\n",
        "\n",
        "    @abstractmethod\n",
        "    def describe(self):\n",
        "        pass\n",
        "\n",
        "class Student(Person):\n",
        "    def __init__(self, name: str, yob: int, grade: str):\n",
        "        super().__init__(name, yob)\n",
        "        self._grade = grade\n",
        "\n",
        "    def describe(self):\n",
        "        return f\"Student - Name: {self._name} - YoB: {self._yob} - Grade: {self._grade}\"\n",
        "\n",
        "student1 = Student ( name =\" studentZ2023 \", yob =2011 , grade =\"6\")\n",
        "assert student1._yob == 2011"
      ],
      "metadata": {
        "id": "QL-YLD4TKZY6"
      },
      "execution_count": 65,
      "outputs": []
    },
    {
      "cell_type": "code",
      "source": [
        "student1.describe()"
      ],
      "metadata": {
        "colab": {
          "base_uri": "https://localhost:8080/",
          "height": 36
        },
        "id": "t3pB_E0MK_p8",
        "outputId": "3b547d23-e575-4e6f-c52d-43d36a9e7c3b"
      },
      "execution_count": 66,
      "outputs": [
        {
          "output_type": "execute_result",
          "data": {
            "text/plain": [
              "'Student - Name:  studentZ2023  - YoB: 2011 - Grade: 6'"
            ],
            "application/vnd.google.colaboratory.intrinsic+json": {
              "type": "string"
            }
          },
          "metadata": {},
          "execution_count": 66
        }
      ]
    },
    {
      "cell_type": "markdown",
      "source": [
        "## 6.\n",
        "Câu hỏi 6: Một người (person) có thể là student, doctor, hoặc teacher. Một teacher gồm có name\n",
        "(string), yob (int), và subject (string). Các bạn thực hiện viết class Teacher theo mô tả trên (Các\n",
        "bạn sẽ viết thêm describe() method để print ra tất cả thông tin của object) và kết quả đầu ra là\n",
        "gì? Chọn đáp án đúng nhất bên dưới."
      ],
      "metadata": {
        "id": "uEtX5oPQLVcy"
      }
    },
    {
      "cell_type": "code",
      "source": [
        "class Teacher(Person):\n",
        "    def __init__(self, name: str, yob: int, subject: str):\n",
        "        super().__init__(name, yob)\n",
        "        self._subject = subject\n",
        "\n",
        "    def describe(self):\n",
        "        return f\"Teacher - Name: {self._name} - YoB: {self._yob} - Subject: {self._subject}\""
      ],
      "metadata": {
        "id": "ox0JP7-7LQtd"
      },
      "execution_count": 67,
      "outputs": []
    },
    {
      "cell_type": "code",
      "source": [
        "teacher1 = Teacher ( name =\"teacherZ2023 \", yob =1991 , subject =\"History \")\n",
        "assert teacher1._yob == 1991"
      ],
      "metadata": {
        "id": "5D-8DueFLlMP"
      },
      "execution_count": 68,
      "outputs": []
    },
    {
      "cell_type": "code",
      "source": [
        "teacher1 . describe ()"
      ],
      "metadata": {
        "colab": {
          "base_uri": "https://localhost:8080/",
          "height": 36
        },
        "id": "GTX-9RuRLqLH",
        "outputId": "3159941c-234f-4eb3-cbe8-e34b4142c7a8"
      },
      "execution_count": 69,
      "outputs": [
        {
          "output_type": "execute_result",
          "data": {
            "text/plain": [
              "'Teacher - Name: teacherZ2023  - YoB: 1991 - Subject: History '"
            ],
            "application/vnd.google.colaboratory.intrinsic+json": {
              "type": "string"
            }
          },
          "metadata": {},
          "execution_count": 69
        }
      ]
    },
    {
      "cell_type": "markdown",
      "source": [
        "## 7.\n",
        "Câu hỏi 7: Một người (person) có thể là student, doctor, hoặc teacher. Một doctor gồm có name\n",
        "(string), yob (string), và specialist (string). Các bạn thực hiện viết class Teacher theo mô tả trên\n",
        "(Các bạn sẽ viết thêm describe() method để print ra tất cả thông tin của object) và kết quả đầu\n",
        "ra là gì? Chọn đáp án đúng nhất bên dưới."
      ],
      "metadata": {
        "id": "R3qRnfB8LxYp"
      }
    },
    {
      "cell_type": "code",
      "source": [
        "class Doctor(Person):\n",
        "    def __init__(self, name: str, yob: int, specialist: str):\n",
        "        super().__init__(name, yob)\n",
        "        self._specialist = specialist\n",
        "\n",
        "    def describe(self):\n",
        "        return f\"Doctor - Name: {self._name} - YoB: {self._yob} - Specialist: {self._specialist}\""
      ],
      "metadata": {
        "id": "sqm5ixjxLrgW"
      },
      "execution_count": 70,
      "outputs": []
    },
    {
      "cell_type": "code",
      "source": [
        "doctor1 = Doctor ( name =\"doctorZ2023 \", yob =1981 , specialist =\"Endocrinologists \")\n",
        "assert doctor1._yob == 1981"
      ],
      "metadata": {
        "id": "4aWKQOsiL8KR"
      },
      "execution_count": 71,
      "outputs": []
    },
    {
      "cell_type": "code",
      "source": [
        "doctor1.describe()"
      ],
      "metadata": {
        "colab": {
          "base_uri": "https://localhost:8080/",
          "height": 36
        },
        "id": "jwnmk3z6MBEn",
        "outputId": "26c1c336-3cf2-4823-cc8f-abce729b5f7b"
      },
      "execution_count": 72,
      "outputs": [
        {
          "output_type": "execute_result",
          "data": {
            "text/plain": [
              "'Doctor - Name: doctorZ2023  - YoB: 1981 - Specialist: Endocrinologists '"
            ],
            "application/vnd.google.colaboratory.intrinsic+json": {
              "type": "string"
            }
          },
          "metadata": {},
          "execution_count": 72
        }
      ]
    },
    {
      "cell_type": "markdown",
      "source": [
        "## 8.\n",
        "Câu hỏi 8 Một Ward gồm có name (string) và danh sách của mọi người trong Ward. Một người\n",
        "person có thể là student, doctor, hoặc teacher và cần sử dụng một list để chứa danh sách của mọi\n",
        "người trong Ward. Viết add_person(person) method trong Ward class để add thêm một người\n",
        "mới với nghề nghiệp bất kỳ (student, teacher, doctor) vào danh sách người của ward. Tạo ra một\n",
        "ward object, và thêm vào 1 student, 2 teacher, và 2 doctor. Thực hiện describe() method để in ra\n",
        "tên ward (name) và toàn bộ thông tin của từng người trong ward. Chọn đáp án đúng nhất bên\n",
        "dưới cho phương thức đếm số lượng doctor."
      ],
      "metadata": {
        "id": "S8yI67VwMHFg"
      }
    },
    {
      "cell_type": "code",
      "source": [
        "class Ward:\n",
        "    def __init__(self, name: str):\n",
        "        self.__name = name\n",
        "        self.__listPeople = list()\n",
        "\n",
        "    def add_person(self, person: Person):\n",
        "        self.__listPeople.append(person)\n",
        "\n",
        "    def describe(self):\n",
        "        print(f\"Ward Name: {self.__name}\")\n",
        "        for p in self.__listPeople:\n",
        "            print(p.describe())\n",
        "\n",
        "    def count_doctor(self):\n",
        "        return sum(1 for p in self.__listPeople if isinstance(p, Doctor))\n",
        "\n"
      ],
      "metadata": {
        "id": "MpykRaLcMC_-"
      },
      "execution_count": 73,
      "outputs": []
    },
    {
      "cell_type": "code",
      "source": [
        "student1 = Student(name=\"studentA\", yob=2010, grade=\"7\")\n",
        "teacher1 = Teacher(name=\"teacherA\", yob=1969, subject=\"Math\")\n",
        "teacher2 = Teacher(name=\"teacherB\", yob=1995, subject=\"History\")\n",
        "doctor1 = Doctor(name=\"doctorA\", yob=1945, specialist=\"Endocrinologists\")\n",
        "\n",
        "doctor2 = Doctor(name=\"doctorB\", yob=1975, specialist=\"Cardiologists\")\n",
        "\n",
        "\n",
        "ward1 = Ward(name=\"Ward1\")\n",
        "ward1.add_person(student1)\n",
        "ward1.add_person(teacher1)\n",
        "ward1.add_person(teacher2)\n",
        "ward1.add_person(doctor1)\n",
        "ward1.add_person(doctor2)\n",
        "\n",
        "ward1.count_doctor()\n"
      ],
      "metadata": {
        "colab": {
          "base_uri": "https://localhost:8080/"
        },
        "id": "I1Qlm40sMlNB",
        "outputId": "496c49d2-10ae-4b26-a41d-5de791c8295c"
      },
      "execution_count": 75,
      "outputs": [
        {
          "output_type": "execute_result",
          "data": {
            "text/plain": [
              "2"
            ]
          },
          "metadata": {},
          "execution_count": 75
        }
      ]
    },
    {
      "cell_type": "markdown",
      "source": [
        "##9.\n",
        "Câu hỏi 9 Thực hiện xây dựng class Stack với các chức năng (method) sau đây: initial- ization\n",
        "method nhận một input \"capacity\": dùng để khởi tạo stack với capacity là số lượng element mà\n",
        "stack có thể chứa. .is_full(): kiểm tra stack đã full chưa. .push(value) add thêm value vào trong\n",
        "stack. Kết quả đầu ra là gì?"
      ],
      "metadata": {
        "id": "ByuZ7rW_NM8P"
      }
    },
    {
      "cell_type": "code",
      "source": [
        "class MyStack:\n",
        "    def __init__(self, capacity):\n",
        "        self.__capacity = capacity\n",
        "        self.__stack = []\n",
        "\n",
        "    def is_full(self):\n",
        "        return len(self.__stack) == self.__capacity\n",
        "\n",
        "    def push(self, value):\n",
        "        if self.is_full():\n",
        "            raise OverflowError(\"Stack is full\")\n",
        "        self.__stack.append(value)"
      ],
      "metadata": {
        "id": "CHr_vHmWM-FH"
      },
      "execution_count": 76,
      "outputs": []
    },
    {
      "cell_type": "code",
      "source": [
        "stack1 = MyStack ( capacity =5)\n",
        "stack1.push(1)"
      ],
      "metadata": {
        "id": "jqK1kM6yNdvg"
      },
      "execution_count": 78,
      "outputs": []
    },
    {
      "cell_type": "code",
      "source": [
        "assert stack1.is_full() == False"
      ],
      "metadata": {
        "id": "ForNBowrNgVy"
      },
      "execution_count": 79,
      "outputs": []
    },
    {
      "cell_type": "code",
      "source": [
        "stack1.push(2)\n",
        "print(stack1.is_full())"
      ],
      "metadata": {
        "colab": {
          "base_uri": "https://localhost:8080/"
        },
        "id": "nvKUP6EUNj7P",
        "outputId": "69ccfa2b-ef0d-4b97-b740-35489ed6ce78"
      },
      "execution_count": 80,
      "outputs": [
        {
          "output_type": "stream",
          "name": "stdout",
          "text": [
            "False\n"
          ]
        }
      ]
    },
    {
      "cell_type": "markdown",
      "source": [
        "## 10.\n",
        "\n",
        "Câu hỏi 10: Thực hiện xây dựng class Stack với các chức năng (method) sau đây: initialization\n",
        "method nhận một input \"capacity\", dùng để khởi tạo stack với capacity là số lượng element mà\n",
        "stack có thể chứa. Phương thức is_empty(): kiểm tra stack có đang rỗng. Phương thức is_full():\n",
        "kiểm tra stack đã full chưa. Phương thức push(value) add thêm value vào trong stack. Phương\n",
        "thức top() lấy giá trị top element hiện tại của stack, nhưng không loại bỏ giá trị đó. Kết quả đầu\n",
        "ra là gì?"
      ],
      "metadata": {
        "id": "aa7jabOZNs6M"
      }
    },
    {
      "cell_type": "code",
      "source": [
        "class MyStack:\n",
        "    def __init__(self, capacity):\n",
        "        self.__capacity = capacity\n",
        "        self.__stack = []\n",
        "\n",
        "    def is_full(self):\n",
        "        return len(self.__stack) == self.__capacity\n",
        "\n",
        "    def push(self, value):\n",
        "        if self.is_full():\n",
        "            raise OverflowError(\"Stack is full\")\n",
        "        self.__stack.append(value)\n",
        "\n",
        "    def top(self):\n",
        "        if not self.__stack:\n",
        "            raise IndexError(\"Stack is empty\")\n",
        "        return self.__stack[-1]\n",
        ""
      ],
      "metadata": {
        "id": "4hhqQdeoNoPY"
      },
      "execution_count": 82,
      "outputs": []
    },
    {
      "cell_type": "code",
      "source": [
        "stack1 = MyStack ( capacity =5)\n",
        "stack1.push(1)\n",
        "assert stack1.is_full() == False\n",
        "stack1.push(2)\n",
        "print ( stack1.top() )"
      ],
      "metadata": {
        "colab": {
          "base_uri": "https://localhost:8080/"
        },
        "id": "85CXPDo-N5V_",
        "outputId": "15e58f08-9b96-4769-b5e8-4e38e78690f0"
      },
      "execution_count": 83,
      "outputs": [
        {
          "output_type": "stream",
          "name": "stdout",
          "text": [
            "1\n"
          ]
        }
      ]
    },
    {
      "cell_type": "markdown",
      "source": [
        "## 11.\n",
        "Câu hỏi 11: Thực hiện xây dựng class Queue với các chức năng (method) sau đây: initialization\n",
        "method nhận một input \"capacity\", dùng để khởi tạo queue với capacity là số lượng element mà\n",
        "queue có thể chứa. Phương thức is_full(): kiểm tra queue đã full chưa. Phương thức enqueue(value)\n",
        "add thêm value vào trong queue. Kết quả đầu ra là gì?"
      ],
      "metadata": {
        "id": "SZejWbnmOUc0"
      }
    },
    {
      "cell_type": "code",
      "source": [
        "class MyQueue:\n",
        "    def __init__(self, capacity):\n",
        "        self.__capacity = capacity\n",
        "        self.__queue = []\n",
        "\n",
        "    def is_full(self):\n",
        "        return len(self.__queue) == self.__capacity\n",
        "\n",
        "    def enqueue(self, value):\n",
        "        if self.is_full():\n",
        "            raise OverflowError(\"Queue is full\")\n",
        "        self.__queue.append(value)\n",
        "\n",
        "queue1 = MyQueue(capacity=5)\n",
        "queue1.enqueue(1)\n",
        "\n",
        "assert queue1.is_full() == False"
      ],
      "metadata": {
        "id": "D6dnr8S6ORWB"
      },
      "execution_count": 86,
      "outputs": []
    },
    {
      "cell_type": "code",
      "source": [
        "queue1.enqueue(2)\n",
        "print(queue1.is_full())"
      ],
      "metadata": {
        "colab": {
          "base_uri": "https://localhost:8080/"
        },
        "id": "KrtMck_IOkyL",
        "outputId": "b479eed6-a939-4f2a-b1b1-8aad1746b7de"
      },
      "execution_count": 87,
      "outputs": [
        {
          "output_type": "stream",
          "name": "stdout",
          "text": [
            "False\n"
          ]
        }
      ]
    },
    {
      "cell_type": "markdown",
      "source": [
        "## 12.\n",
        "Câu hỏi 12: Thực hiện xây dựng class Queue với các chức năng (method) sau đây: initialization\n",
        "method nhận một input \"capacity\" dùng để khởi tạo queue với capacity là số lượng element mà\n",
        "queue có thể chứa. Phương thức is_full(): kiểm tra queue đã full chưa. Phương thức enqueue(value)\n",
        "add thêm value vào trong queue. Phương thức front() lấy giá trị first element hiện tại của queue,\n",
        "nhưng không loại bỏ giá trị đó. Kết quả đầu ra là gì?"
      ],
      "metadata": {
        "id": "Eh3DaBnQOq7F"
      }
    },
    {
      "cell_type": "code",
      "source": [],
      "metadata": {
        "id": "mFpLJkPwOnLI"
      },
      "execution_count": null,
      "outputs": []
    },
    {
      "cell_type": "code",
      "source": [
        "class MyQueue:\n",
        "    def __init__(self, capacity):\n",
        "        self.__capacity = capacity\n",
        "        self.__queue = []\n",
        "\n",
        "    def isEmpty(self):\n",
        "        return len(self.__queue) == 0\n",
        "\n",
        "    def is_full(self):\n",
        "        return len(self.__queue) == self.__capacity\n",
        "\n",
        "    def enqueue(self, value):\n",
        "        if self.is_full():\n",
        "            raise OverflowError(\"Queue is full\")\n",
        "        self.__queue.append(value)\n",
        "\n",
        "    def dequeue(self):\n",
        "        if self.isEmpty():\n",
        "            raise IndexError(\"Queue is empty\")\n",
        "        return self.__queue.pop(0)\n",
        "\n",
        "    def front(self):\n",
        "        if self.isEmpty():\n",
        "            raise IndexError(\"Queue is empty\")\n",
        "        return self.__queue[0]\n",
        "\n",
        "queue1 = MyQueue(capacity=5)\n",
        "queue1.enqueue(1)\n",
        "\n",
        "assert queue1.is_full() == False"
      ],
      "metadata": {
        "id": "619bFAkTOuIL"
      },
      "execution_count": 88,
      "outputs": []
    },
    {
      "cell_type": "code",
      "source": [
        "queue1.enqueue(2)\n",
        "print(queue1.front())"
      ],
      "metadata": {
        "id": "7o9Sa255O_cc",
        "outputId": "de188145-e144-4ec8-eb7d-290d8d0b8652",
        "colab": {
          "base_uri": "https://localhost:8080/"
        }
      },
      "execution_count": 89,
      "outputs": [
        {
          "output_type": "stream",
          "name": "stdout",
          "text": [
            "1\n"
          ]
        }
      ]
    }
  ]
}